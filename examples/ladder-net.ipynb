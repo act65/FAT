{
 "cells": [
  {
   "cell_type": "markdown",
   "metadata": {},
   "source": [
    "Let $e_i$ be the ith encoder layer and $d_j$ be the (N-j)th decoder layer.\n",
    "Let $x_i$ be the ith encoder activation, and $y_j$ be the (N-j)th decoder activation.\n",
    "\n",
    "\n",
    "$$\n",
    "\\begin{align}\n",
    "x_{i+1} &= e_i(x_{i}) \\tag{for e in the set of encoder functions} \\\\\n",
    "y_{i+1} &= y_i + d_i(y_{i}) \\tag{for d in the set of decoder functions} \\\\\n",
    "\\left[ \\begin{array}{c} x_1 \\\\ x_2 \\\\ x_3 \\\\ y_1 \\\\ y_2 \\\\ y_3  \\\\ \\end{array} \\right] &=\n",
    "\\left[ \\begin{array}{c} x_1 \\\\ e_1(x_1) \\\\ e_2(x_2) \\\\ x_3 \\\\ x_2 + d_1(y_1) \\\\ x_1 + d_2(y_2) \\\\  \\end{array} \\right] \\\\\n",
    "\\end{align}\n",
    "$$\n",
    "\n",
    "$$\n",
    "\\begin{align}\n",
    "&= \\begin{bmatrix} \n",
    "I & 0 & 0 &  0 & 0 & 0 \\\\\n",
    "e_1 & 0 & 0  & 0 & 0 & 0\\\\ \n",
    "0 & e_2 & 0  & 0 & 0 & 0\\\\ \n",
    "0 & 0 & e_3 & 0 & 0 & 0 \\\\ \n",
    "0 & 0 & I &  d_1 & 0 & 0\\\\\n",
    "0 & I & 0 & 0 & d_2 & 0\\\\\n",
    "\\end{bmatrix} \n",
    "\\left( \\begin{array}{c}  x_1 \\\\ x_2 \\\\ x_3 \\\\ y_1 \\\\ y_2 \\\\ y_3  \\\\ \\end{array} \\right) \\tag{rewrite using FATs} \\\\\n",
    "&= \\begin{bmatrix} \n",
    "I & 0 & 0 &  0 & 0 & 0\\\\\n",
    "e_1 & 0 & 0  & 0 & 0 & 0\\\\ \n",
    "0 & e_2 & 0  & 0 & 0 & 0\\\\ \n",
    "0 & 0 & e_3 & 0 & 0 & 0\\\\ \n",
    "0 & e_2 & 0 &  d_1 & 0 & 0 \\\\\n",
    "e_1 & 0 & 0 & 0 & d_2 & 0 \\\\\n",
    "\\end{bmatrix} \n",
    "\\left( \\begin{array}{c}  x_1 \\\\ x_2 \\\\ x_3 \\\\ y_1 \\\\ y_2 \\\\ y_3  \\\\ \\end{array} \\right)  \\tag{rewrite w.r.t fns} \\\\\n",
    "\\end{align}\n",
    "$$"
   ]
  }
 ],
 "metadata": {
  "kernelspec": {
   "display_name": "Python 3",
   "language": "python",
   "name": "python3"
  },
  "language_info": {
   "codemirror_mode": {
    "name": "ipython",
    "version": 3
   },
   "file_extension": ".py",
   "mimetype": "text/x-python",
   "name": "python",
   "nbconvert_exporter": "python",
   "pygments_lexer": "ipython3",
   "version": "3.6.4"
  }
 },
 "nbformat": 4,
 "nbformat_minor": 2
}
