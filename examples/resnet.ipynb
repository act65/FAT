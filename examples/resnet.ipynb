{
 "cells": [
  {
   "cell_type": "markdown",
   "metadata": {},
   "source": [
    "$$\n",
    "\\begin{align}\n",
    "x_{i+1} &= x_i + f_i(x_i) \\tag{a single layer} \\\\\n",
    "&= g_i(x_i)\n",
    "\\end{align}\n",
    "$$"
   ]
  },
  {
   "cell_type": "markdown",
   "metadata": {},
   "source": [
    "$$\n",
    "\\begin{align}\n",
    "x_{5} = g_5(g_4(g_3(g_2(g_1(x_1))))) \\tag{compose into a hierarchy}\n",
    "\\end{align}\n",
    "$$"
   ]
  },
  {
   "cell_type": "markdown",
   "metadata": {},
   "source": [
    "$$\n",
    "\\left[ \\begin{array}{c} x_1 \\\\ x_2 \\\\ x_3 \\\\ x_4 \\\\ x_5 \\\\  \\end{array} \\right] = \n",
    "\\left[ \\begin{array}{c} x_1 \\\\ f_1(x_1)+x_1 \\\\ f_2(x_2)+x_2 \\\\ f_3(x_3)+x_3 \\\\ f_4(x_4)+x_4 \\\\  \\end{array} \\right] \\tag{rewrite as a system}\\\\\n",
    "$$\n",
    "\n",
    "$$\n",
    "= \\begin{bmatrix} \n",
    "I & 0 & 0 & 0 & 0   \\\\\n",
    "I + f_1 & 0 & 0 & 0 & 0 \\\\ \n",
    "0 & I + f_2 & 0 & 0 & 0 \\\\ \n",
    "0 & 0 & I + f_3 & 0 & 0 \\\\ \n",
    "0 & 0 & 0 & I + f_4 & 0\\\\\n",
    "\\end{bmatrix} \n",
    "\\left( \\begin{array}{c} x_1 \\\\ x_2 \\\\ x_3 \\\\ x_4 \\\\ x_5 \\\\  \\end{array} \\right) \\tag{use FAT representation}\n",
    "$$"
   ]
  },
  {
   "cell_type": "markdown",
   "metadata": {},
   "source": [
    "\n",
    "$$\n",
    "= \\begin{bmatrix} \n",
    "I & 0 & 0 & 0 & 0   \\\\\n",
    "I + f_1 & 0 & 0 & 0 & 0 \\\\ \n",
    "I + f_1 & f_2 & 0 & 0 & 0 \\\\ \n",
    "I + f_1 & f_2 & f_3 & 0 & 0 \\\\ \n",
    "I + f_1 & f_2 & f_3 & f_4 & 0\\\\\n",
    "\\end{bmatrix} \n",
    "\\left( \\begin{array}{c} x_1 \\\\ x_2 \\\\ x_3 \\\\ x_4 \\\\ x_5 \\\\  \\end{array} \\right) \\tag{expand the $I$s}\\\\\n",
    "$$\n",
    "$$\n",
    "= \\begin{bmatrix} \n",
    "I & 0 & 0 & 0 & 0 \\\\\n",
    "I & 0 & 0 & 0 & 0 \\\\ \n",
    "I & 0 & 0 & 0 & 0 \\\\ \n",
    "I & 0 & 0 & 0 & 0 \\\\ \n",
    "I & 0 & 0 & 0 & 0 \\\\\n",
    "\\end{bmatrix} \n",
    "\\left( \\begin{array}{c} x_1 \\\\ x_2 \\\\ x_3 \\\\ x_4 \\\\ x_5 \\\\  \\end{array} \\right)\n",
    "+ \n",
    "\\begin{bmatrix} \n",
    "0 & 0 & 0 & 0 & 0   \\\\\n",
    "f_1 & 0 & 0 & 0 & 0 \\\\ \n",
    "f_1 & f_2 & 0 & 0 & 0 \\\\ \n",
    "f_1 & f_2 & f_3 & 0 & 0 \\\\ \n",
    "f_1 & f_2 & f_3 & f_4 & 0\\\\\n",
    "\\end{bmatrix} \n",
    "\\left( \\begin{array}{c} x_1 \\\\ x_2 \\\\ x_3 \\\\ x_4 \\\\ x_5 \\\\  \\end{array} \\right) \\\\\n",
    "$$\n",
    "$$\n",
    "\\vec{x} = x_1 + \\mathbf{\\mathcal{F}}(\\vec{x}) \\tag{broadcast $x_1$}\n",
    "$$\n"
   ]
  }
 ],
 "metadata": {
  "kernelspec": {
   "display_name": "Python 3",
   "language": "python",
   "name": "python3"
  },
  "language_info": {
   "codemirror_mode": {
    "name": "ipython",
    "version": 3
   },
   "file_extension": ".py",
   "mimetype": "text/x-python",
   "name": "python",
   "nbconvert_exporter": "python",
   "pygments_lexer": "ipython3",
   "version": "3.6.4"
  }
 },
 "nbformat": 4,
 "nbformat_minor": 2
}
