{
 "cells": [
  {
   "cell_type": "markdown",
   "metadata": {},
   "source": [
    "Superscripts denote path number, substricpt denote the ith layer of a given path. For example, $f_2^4$ is the 2nd layer of the 4th path. The image should help make things clearer.\n",
    "\n",
    "![im](../images/fractal.png)\n"
   ]
  },
  {
   "cell_type": "markdown",
   "metadata": {},
   "source": [
    "\n",
    "$$\n",
    "\\left[ \\begin{array}{c} x_1 \\\\ x_2 \\\\ x_3 \\\\ x_4 \\\\ x_5 \\\\ x_6 \\\\ x_7 \\\\ x_8 \\\\ x_9 \\\\ \\end{array} \\right] =\n",
    "\\left[ \\begin{array}{c} x_1 \\\\ f_1^4(x_1) \\\\ f_1^3(x_1) + f_2^4(x_2) \\\\ f_3^4(x_3) \\\\ f_1^2(x_1) + f_2^3(x_3) + f_4^4(x_4) \\\\ f^4_5(x_5) \\\\ f_3^3(x_5) + f^4_6(x_6) \\\\ f_7^4(x_7) \\\\ f_1^1(x_1) + f_2^2(x_5) + f_4^3(x_7) + f_8^4(x_8) \\\\ \\end{array} \\right] \\\\\n",
    "$$\n"
   ]
  },
  {
   "cell_type": "markdown",
   "metadata": {},
   "source": [
    "$$\n",
    "= \\begin{bmatrix} \n",
    "I & 0 & 0 &  0 & 0 & 0 & 0 & 0 & 0\\\\\n",
    "f_1^4 & 0 & 0  & 0 & 0 & 0 & 0 & 0 & 0\\\\ \n",
    "f_1^3 & f_2^4 & 0  & 0 & 0 & 0 & 0 & 0  & 0\\\\ \n",
    "0 & 0 & f_3^4 & 0 & 0 & 0 & 0 & 0 & 0\\\\ \n",
    "f_1^2 & 0 & f_2^3 & f_4^4 & 0 & 0 & 0 & 0 & 0\\\\ \n",
    "0 & 0 & 0 & 0 & f_5^4 & 0 & 0 & 0 & 0\\\\\n",
    "0 & 0 & 0 & 0 & f_3^3 & f_6^4 & 0 & 0 & 0\\\\\n",
    "0 & 0 & 0 & 0 & 0 & 0 & f_7^4 & 0 & 0\\\\\n",
    "f_1^1 & 0 & 0 & 0 & f_2^2 & 0 & f_4^3 & f_8^4 & 0\\\\\n",
    "\\end{bmatrix} \n",
    "\\left( \\begin{array}{c}  x_1 \\\\ x_2 \\\\ x_3 \\\\ x_4 \\\\ x_5 \\\\ x_6 \\\\ x_7 \\\\ x_8 \\\\ x_9 \\\\  \\end{array} \\right) \\\\\n",
    "$$"
   ]
  }
 ],
 "metadata": {
  "kernelspec": {
   "display_name": "Python 3",
   "language": "python",
   "name": "python3"
  },
  "language_info": {
   "codemirror_mode": {
    "name": "ipython",
    "version": 3
   },
   "file_extension": ".py",
   "mimetype": "text/x-python",
   "name": "python",
   "nbconvert_exporter": "python",
   "pygments_lexer": "ipython3",
   "version": "3.6.4"
  }
 },
 "nbformat": 4,
 "nbformat_minor": 2
}
