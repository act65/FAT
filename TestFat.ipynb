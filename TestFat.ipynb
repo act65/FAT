{
 "cells": [
  {
   "cell_type": "code",
   "execution_count": 1,
   "metadata": {
    "collapsed": false
   },
   "outputs": [],
   "source": [
    "import FAT\n",
    "import tensorflow as tf\n",
    "import numpy as np"
   ]
  },
  {
   "cell_type": "code",
   "execution_count": 7,
   "metadata": {
    "collapsed": false
   },
   "outputs": [
    {
     "name": "stdout",
     "output_type": "stream",
     "text": [
      "I o o \n",
      "o o o \n",
      "o I o \n",
      "\n"
     ]
    }
   ],
   "source": [
    "def I(x):\n",
    "    return x\n",
    "\n",
    "F = FAT.Fatrix((3,3))\n",
    "F[0,0] = I\n",
    "F[2,1] = I\n",
    "print(F)"
   ]
  },
  {
   "cell_type": "code",
   "execution_count": 8,
   "metadata": {
    "collapsed": false
   },
   "outputs": [
    {
     "name": "stdout",
     "output_type": "stream",
     "text": [
      "x\n",
      "o\n",
      "o\n",
      "\n"
     ]
    }
   ],
   "source": [
    "V = FAT.Vatrix(3)\n",
    "x = np.random.random((4,4))\n",
    "V[0] = x, 'x'\n",
    "print(V)"
   ]
  },
  {
   "cell_type": "code",
   "execution_count": 9,
   "metadata": {
    "collapsed": false
   },
   "outputs": [
    {
     "name": "stdout",
     "output_type": "stream",
     "text": [
      "x\n",
      "o\n",
      "o\n",
      "\n"
     ]
    }
   ],
   "source": [
    "print(F(V))"
   ]
  },
  {
   "cell_type": "code",
   "execution_count": 10,
   "metadata": {
    "collapsed": false
   },
   "outputs": [
    {
     "data": {
      "text/plain": [
       "[[ 0.48951245  0.89139771  0.2130973   0.98498944]\n",
       " [ 0.01283492  0.471033    0.692477    0.9964459 ]\n",
       " [ 0.40331965  0.75729779  0.68301201  0.24371338]\n",
       " [ 0.00504838  0.34289945  0.74837463  0.79171584]]\n",
       "0\n",
       "0"
      ]
     },
     "execution_count": 10,
     "metadata": {},
     "output_type": "execute_result"
    }
   ],
   "source": [
    "F(V)"
   ]
  }
 ],
 "metadata": {
  "kernelspec": {
   "display_name": "Python 3",
   "language": "python",
   "name": "python3"
  },
  "language_info": {
   "codemirror_mode": {
    "name": "ipython",
    "version": 3
   },
   "file_extension": ".py",
   "mimetype": "text/x-python",
   "name": "python",
   "nbconvert_exporter": "python",
   "pygments_lexer": "ipython3",
   "version": "3.5.1"
  }
 },
 "nbformat": 4,
 "nbformat_minor": 0
}
