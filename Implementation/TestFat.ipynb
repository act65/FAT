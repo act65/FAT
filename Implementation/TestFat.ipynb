{
 "cells": [
  {
   "cell_type": "code",
   "execution_count": 1,
   "metadata": {
    "collapsed": false
   },
   "outputs": [],
   "source": [
    "import FAT\n",
    "import tensorflow as tf\n",
    "import numpy as np"
   ]
  },
  {
   "cell_type": "code",
   "execution_count": 2,
   "metadata": {
    "collapsed": false
   },
   "outputs": [
    {
     "name": "stdout",
     "output_type": "stream",
     "text": [
      "I o o \n",
      "o o o \n",
      "o I o \n",
      "\n"
     ]
    }
   ],
   "source": [
    "def I(x):\n",
    "    return x\n",
    "\n",
    "F = FAT.Fatrix((3,3))\n",
    "F[0,0] = I\n",
    "F[2,1] = I\n",
    "print(F)"
   ]
  },
  {
   "cell_type": "code",
   "execution_count": 3,
   "metadata": {
    "collapsed": false
   },
   "outputs": [
    {
     "name": "stdout",
     "output_type": "stream",
     "text": [
      "x\n",
      "o\n",
      "o\n",
      "\n"
     ]
    }
   ],
   "source": [
    "V = FAT.Vatrix(3)\n",
    "x = np.random.random((4,4))\n",
    "V[0] = x, 'x'\n",
    "print(V)"
   ]
  },
  {
   "cell_type": "code",
   "execution_count": 4,
   "metadata": {
    "collapsed": false
   },
   "outputs": [
    {
     "name": "stdout",
     "output_type": "stream",
     "text": [
      "x\n",
      "o\n",
      "o\n",
      "\n"
     ]
    }
   ],
   "source": [
    "print(F(V))"
   ]
  },
  {
   "cell_type": "code",
   "execution_count": 5,
   "metadata": {
    "collapsed": false
   },
   "outputs": [
    {
     "data": {
      "text/plain": [
       "[[ 0.08951007  0.14614279  0.72228205  0.77482898]\n",
       " [ 0.00649706  0.92377771  0.776373    0.75914466]\n",
       " [ 0.99323292  0.20214421  0.58992505  0.34739622]\n",
       " [ 0.81871906  0.17894692  0.45466097  0.80591835]]\n",
       "0\n",
       "0"
      ]
     },
     "execution_count": 5,
     "metadata": {},
     "output_type": "execute_result"
    }
   ],
   "source": [
    "F(V)"
   ]
  },
  {
   "cell_type": "code",
   "execution_count": 6,
   "metadata": {
    "collapsed": false
   },
   "outputs": [
    {
     "data": {
      "text/plain": [
       "[[ 0.08951007  0.14614279  0.72228205  0.77482898]\n",
       " [ 0.00649706  0.92377771  0.776373    0.75914466]\n",
       " [ 0.99323292  0.20214421  0.58992505  0.34739622]\n",
       " [ 0.81871906  0.17894692  0.45466097  0.80591835]]\n",
       "0\n",
       "0"
      ]
     },
     "execution_count": 6,
     "metadata": {},
     "output_type": "execute_result"
    }
   ],
   "source": [
    "V"
   ]
  },
  {
   "cell_type": "code",
   "execution_count": 11,
   "metadata": {
    "collapsed": false
   },
   "outputs": [
    {
     "name": "stdout",
     "output_type": "stream",
     "text": [
      "x\n",
      "Variable_1:0\n",
      "o\n",
      "\n"
     ]
    }
   ],
   "source": [
    "y = tf.Variable(1,'y')\n",
    "V[1] = y, y.name\n",
    "print(V)"
   ]
  },
  {
   "cell_type": "code",
   "execution_count": 13,
   "metadata": {
    "collapsed": false
   },
   "outputs": [
    {
     "data": {
      "text/plain": [
       "[[ 0.08951007  0.14614279  0.72228205  0.77482898]\n",
       " [ 0.00649706  0.92377771  0.776373    0.75914466]\n",
       " [ 0.99323292  0.20214421  0.58992505  0.34739622]\n",
       " [ 0.81871906  0.17894692  0.45466097  0.80591835]]\n",
       "0\n",
       "Tensor(\"add_1:0\", shape=(), dtype=int32)"
      ]
     },
     "execution_count": 13,
     "metadata": {},
     "output_type": "execute_result"
    }
   ],
   "source": [
    "F(V)"
   ]
  }
 ],
 "metadata": {
  "kernelspec": {
   "display_name": "Python 3",
   "language": "python",
   "name": "python3"
  },
  "language_info": {
   "codemirror_mode": {
    "name": "ipython",
    "version": 3
   },
   "file_extension": ".py",
   "mimetype": "text/x-python",
   "name": "python",
   "nbconvert_exporter": "python",
   "pygments_lexer": "ipython3",
   "version": "3.5.1"
  }
 },
 "nbformat": 4,
 "nbformat_minor": 0
}
