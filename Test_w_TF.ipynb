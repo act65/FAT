{
 "cells": [
  {
   "cell_type": "code",
   "execution_count": 6,
   "metadata": {
    "collapsed": false
   },
   "outputs": [],
   "source": [
    "import Simple2D as Fat\n",
    "import tensorflow as tf\n",
    "import numpy as np"
   ]
  },
  {
   "cell_type": "code",
   "execution_count": 7,
   "metadata": {
    "collapsed": false
   },
   "outputs": [],
   "source": [
    "x = tf.placeholder(tf.float32,shape = (6,5))\n",
    "W0 = tf.Variable(tf.truncated_normal((5,4), stddev=1))\n",
    "W1 = tf.Variable(tf.truncated_normal((4,3), stddev=1))"
   ]
  },
  {
   "cell_type": "code",
   "execution_count": 8,
   "metadata": {
    "collapsed": false
   },
   "outputs": [],
   "source": [
    "y0 = tf.matmul(x,W0)\n",
    "y1 = tf.matmul(y0,W1)"
   ]
  },
  {
   "cell_type": "code",
   "execution_count": 9,
   "metadata": {
    "collapsed": false
   },
   "outputs": [
    {
     "name": "stdout",
     "output_type": "stream",
     "text": [
      "[[-3.49757838  0.94654781  2.59517431]\n",
      " [-4.53496122 -1.08750796  0.80025089]\n",
      " [-3.56306219  0.15293568  1.64573705]\n",
      " [-2.80448818  0.1496188   1.34170258]\n",
      " [-3.32749438 -0.11755836  1.27356446]\n",
      " [-3.21444464 -0.43742099  0.97045261]]\n"
     ]
    }
   ],
   "source": [
    "with tf.Session() as sess:\n",
    "    sess.run(tf.initialize_all_variables())\n",
    "    \n",
    "    print(sess.run(y1,feed_dict = {x:np.random.random((6,5))}))"
   ]
  },
  {
   "cell_type": "code",
   "execution_count": 12,
   "metadata": {
    "collapsed": false
   },
   "outputs": [
    {
     "data": {
      "text/plain": [
       "function"
      ]
     },
     "execution_count": 12,
     "metadata": {},
     "output_type": "execute_result"
    }
   ],
   "source": [
    "type(L1)"
   ]
  },
  {
   "cell_type": "code",
   "execution_count": 16,
   "metadata": {
    "collapsed": false
   },
   "outputs": [
    {
     "name": "stdout",
     "output_type": "stream",
     "text": [
      "o o o \n",
      "L1 o o \n",
      "o L2 o \n",
      "\n"
     ]
    }
   ],
   "source": [
    "def L1(x):\n",
    "    return tf.matmul(x,W0)\n",
    "\n",
    "def L2(x):\n",
    "    return tf.matmul(x,W1)\n",
    "\n",
    "f = Fat.Fatrix(shape = (3,3),dtype = type(L1))\n",
    "f[1,0] = L1\n",
    "f[2,1] = L2\n",
    "print(f)"
   ]
  },
  {
   "cell_type": "code",
   "execution_count": null,
   "metadata": {
    "collapsed": true
   },
   "outputs": [],
   "source": [
    "#shit... we need another type of matrix for variables? or can we create a more general one for both?\n",
    "#also, would it make sense to have both in the same matrix?"
   ]
  }
 ],
 "metadata": {
  "kernelspec": {
   "display_name": "Python 3",
   "language": "python",
   "name": "python3"
  },
  "language_info": {
   "codemirror_mode": {
    "name": "ipython",
    "version": 3
   },
   "file_extension": ".py",
   "mimetype": "text/x-python",
   "name": "python",
   "nbconvert_exporter": "python",
   "pygments_lexer": "ipython3",
   "version": "3.5.1"
  }
 },
 "nbformat": 4,
 "nbformat_minor": 0
}
