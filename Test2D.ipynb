{
 "cells": [
  {
   "cell_type": "code",
   "execution_count": 1,
   "metadata": {
    "collapsed": true
   },
   "outputs": [],
   "source": [
    "import numpy as np\n",
    "import Simple2D as Fat"
   ]
  },
  {
   "cell_type": "code",
   "execution_count": 13,
   "metadata": {
    "collapsed": false
   },
   "outputs": [
    {
     "name": "stdout",
     "output_type": "stream",
     "text": [
      "(3, 1) (3, 3)\n",
      "A o o \n",
      "o B o \n",
      "o o C \n",
      "\n",
      "[[ 1.]\n",
      " [ 3.]\n",
      " [ 7.]]\n",
      "[[ 1.  0.  0.]\n",
      " [ 0.  3.  0.]\n",
      " [ 0.  0.  7.]]\n"
     ]
    }
   ],
   "source": [
    "# Some toy functions\n",
    "def A(x): return x\n",
    "def B(x): return 3*x\n",
    "def C(x): return 7*x\n",
    "\n",
    "s = (3,3)#shape\n",
    "\n",
    "f = Fat.Fatrix(shape = s)\n",
    "#an array of functions\n",
    "f[0,0] = A\n",
    "f[1,1] = B\n",
    "f[2,2] = C\n",
    "\n",
    "x = np.ones((3,1))\n",
    "y = np.diag(np.ones(3))\n",
    "print(x.shape,y.shape)\n",
    "print(f)\n",
    "print(f(x))\n",
    "print(f(y))"
   ]
  },
  {
   "cell_type": "code",
   "execution_count": 4,
   "metadata": {
    "collapsed": false
   },
   "outputs": [
    {
     "name": "stdout",
     "output_type": "stream",
     "text": [
      "A o o \n",
      "o B o \n",
      "o o C \n",
      " o <lambda> <lambda> \n",
      "o o o \n",
      "o o o \n",
      "\n",
      "[[ 4.33956166  3.87810105  3.90257437]\n",
      " [ 0.          3.          0.        ]\n",
      " [ 0.          0.          7.        ]]\n"
     ]
    }
   ],
   "source": [
    "g = Fat.Fatrix(shape = s)\n",
    "\n",
    "# or can be done with lambda functions\n",
    "# but these are so it may be harder to keep track of your functions\n",
    "g[0,1] = lambda x: np.sqrt(x)\n",
    "g[0,2] = lambda x: np.sqrt(x) + 2\n",
    "print(f,g)\n",
    "\n",
    "y = np.random.random(s)\n",
    "print(f(x)+g(y))"
   ]
  },
  {
   "cell_type": "code",
   "execution_count": 14,
   "metadata": {
    "collapsed": false
   },
   "outputs": [
    {
     "ename": "AttributeError",
     "evalue": "'Fatrix' object has no attribute '__name__'",
     "output_type": "error",
     "traceback": [
      "\u001b[0;31m---------------------------------------------------------------------------\u001b[0m",
      "\u001b[0;31mAttributeError\u001b[0m                            Traceback (most recent call last)",
      "\u001b[0;32m<ipython-input-14-ffd9b7794d45>\u001b[0m in \u001b[0;36m<module>\u001b[0;34m()\u001b[0m\n\u001b[1;32m      4\u001b[0m \u001b[0mh\u001b[0m\u001b[0;34m[\u001b[0m\u001b[0;36m0\u001b[0m\u001b[0;34m,\u001b[0m\u001b[0;36m1\u001b[0m\u001b[0;34m]\u001b[0m \u001b[0;34m=\u001b[0m \u001b[0mf\u001b[0m\u001b[0;34m\u001b[0m\u001b[0m\n\u001b[1;32m      5\u001b[0m \u001b[0mh\u001b[0m\u001b[0;34m[\u001b[0m\u001b[0;36m1\u001b[0m\u001b[0;34m,\u001b[0m\u001b[0;36m1\u001b[0m\u001b[0;34m]\u001b[0m \u001b[0;34m=\u001b[0m \u001b[0mg\u001b[0m\u001b[0;34m\u001b[0m\u001b[0m\n\u001b[0;32m----> 6\u001b[0;31m \u001b[0mprint\u001b[0m\u001b[0;34m(\u001b[0m\u001b[0mh\u001b[0m\u001b[0;34m)\u001b[0m\u001b[0;34m\u001b[0m\u001b[0m\n\u001b[0m\u001b[1;32m      7\u001b[0m \u001b[0;34m\u001b[0m\u001b[0m\n\u001b[1;32m      8\u001b[0m \u001b[0mprint\u001b[0m\u001b[0;34m(\u001b[0m\u001b[0mh\u001b[0m\u001b[0;34m(\u001b[0m\u001b[0my\u001b[0m\u001b[0;34m)\u001b[0m\u001b[0;34m)\u001b[0m\u001b[0;34m\u001b[0m\u001b[0m\n",
      "\u001b[0;32m/Volumes/ExtraDiskSpace/Documents/FAT/Simple2D.py\u001b[0m in \u001b[0;36m__str__\u001b[0;34m(self)\u001b[0m\n\u001b[1;32m     45\u001b[0m         \u001b[0mThis\u001b[0m \u001b[0mneeds\u001b[0m \u001b[0mto\u001b[0m \u001b[0mbe\u001b[0m \u001b[0ma\u001b[0m \u001b[0mpretty\u001b[0m \u001b[0mmethod\u001b[0m\u001b[0;34m.\u001b[0m\u001b[0;34m\u001b[0m\u001b[0m\n\u001b[1;32m     46\u001b[0m         \u001b[0mHalf\u001b[0m \u001b[0mthe\u001b[0m \u001b[0mpoint\u001b[0m \u001b[0mof\u001b[0m \u001b[0mdoing\u001b[0m \u001b[0mthis\u001b[0m \u001b[0;32mis\u001b[0m \u001b[0mto\u001b[0m \u001b[0mgain\u001b[0m \u001b[0mmore\u001b[0m \u001b[0minsight\u001b[0m \u001b[0minto\u001b[0m \u001b[0mthe\u001b[0m \u001b[0mstructure\u001b[0m \u001b[0mof\u001b[0m\u001b[0;34m\u001b[0m\u001b[0m\n\u001b[0;32m---> 47\u001b[0;31m         \u001b[0mthe\u001b[0m \u001b[0mcomputational\u001b[0m \u001b[0mgraph\u001b[0m \u001b[0mby\u001b[0m \u001b[0mview\u001b[0m \u001b[0mthe\u001b[0m \u001b[0mcomputational\u001b[0m \u001b[0mgraph\u001b[0m \u001b[0;32mas\u001b[0m \u001b[0ma\u001b[0m \u001b[0mmatrix\u001b[0m\u001b[0;34m.\u001b[0m\u001b[0;34m\u001b[0m\u001b[0m\n\u001b[0m\u001b[1;32m     48\u001b[0m         So we need nice visuals\"\"\"\n\u001b[1;32m     49\u001b[0m         \u001b[0mstring\u001b[0m \u001b[0;34m=\u001b[0m \u001b[0;34m''\u001b[0m\u001b[0;34m\u001b[0m\u001b[0m\n",
      "\u001b[0;31mAttributeError\u001b[0m: 'Fatrix' object has no attribute '__name__'"
     ]
    }
   ],
   "source": [
    "h = Fat.Fatrix(shape = s)\n",
    "#set the elements of my fatrix with other fatrixes\n",
    "#as after all they are just (arrays of) functions\n",
    "h[0,1] = f\n",
    "h[1,1] = g\n",
    "print(h)\n",
    "\n",
    "print(h(y))"
   ]
  }
 ],
 "metadata": {
  "kernelspec": {
   "display_name": "Python 3",
   "language": "python",
   "name": "python3"
  },
  "language_info": {
   "codemirror_mode": {
    "name": "ipython",
    "version": 3
   },
   "file_extension": ".py",
   "mimetype": "text/x-python",
   "name": "python",
   "nbconvert_exporter": "python",
   "pygments_lexer": "ipython3",
   "version": "3.5.1"
  }
 },
 "nbformat": 4,
 "nbformat_minor": 0
}
