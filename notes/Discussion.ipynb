{
 "cells": [
  {
   "cell_type": "markdown",
   "metadata": {},
   "source": [
    "# Goals\n",
    "\n",
    "Motivation - high level structure blah blah\n",
    "\n",
    "* What do we want to ignore? \n",
    "    * The lower level functions, the specifics of +,-, ...\n",
    "* What do we want to abstract away? \n",
    "    * Data. Ideally these structures could tell us things without requiring any data/inputs.\n",
    "* What do we want to pay attention to?\n",
    "    * High level structure.\n",
    "    * \n",
    "\n",
    "* To help answer how structure is related to function.\n",
    "    * Structures. \n",
    "        * Graphs - currently used to ... tensorflow\n",
    "        * Matricies\n",
    "        * ?? What other structures are there that could be helpful?\n",
    "\n",
    "# Design\n",
    "## How do we want it to work (ideal features)?\n",
    "Based on variables or functions? Aka edges or nodes?\n",
    "So the matrix entries are the edges/connections and the indexes are the variables.\n",
    "$$\n",
    "\\begin{bmatrix} 0 & A & 0 \\\\ 0 & 0 & B \\\\ C & 0 & D \\end{bmatrix} \\left[ \\begin{array}{c} x \\\\ y \\\\ z \\end{array} \\right] =  \\left[ \\begin{array}{c} Ay \\\\ Bz \\\\ Cx + Dz \\end{array} \\right] \\rightarrow \\left[ \\begin{array}{c} x \\\\ y \\\\ z \\end{array} \\right]\\\\\\\\\n",
    "$$\n",
    "$$\n",
    "x_{t+1} = A y_t \\\\\n",
    "y_{t+1} = B z_t \\\\\n",
    "z_{t+1} = C x_t + D  z_t\n",
    "$$\n",
    "\n",
    "$$\n",
    "\\begin{bmatrix} 0 & A & 0 \\\\ 0 & 0 & B \\\\ C & 0 & D \\end{bmatrix} \\left[ \\begin{array}{c} x \\\\ y \\\\ z \\end{array} \\right] =  \\left[ \\begin{array}{c} A(y) \\\\ B(z) \\\\ C(x) + D(z) \\end{array} \\right] \\rightarrow \\left[ \\begin{array}{c} x \\\\ y \\\\ z \\end{array} \\right]\\\\\n",
    "$$\n",
    "Which would be equivalent to \n",
    "$$\n",
    "x_{t+1} = A(y_t) \\\\\n",
    "y_{t+1} = B(z_t) \\\\\n",
    "z_{t+1} = C(x_t) + D(z_t)\n",
    "$$\n",
    "\n",
    "Where;\n",
    "* x,y,z are tensors. \n",
    "* A,B,C,D are neural networks."
   ]
  },
  {
   "cell_type": "markdown",
   "metadata": {},
   "source": [
    "# Implementation\n",
    "\n",
    "* Just making computation graph, or should it actually evaluate as well?\n",
    "* C(x) + D(z) can only be evaluated properly if;\n",
    "    * the inputs are the right shape, f(x) takes 5x1 but recieves 10x3...\n",
    "    * the outputs are the right shape. f(x) returns 2x1 and g(y) returns 3x5. how can these be composed together?\n",
    "        * We could make all nets input/output the same shape?\n",
    "        * We could create a basis type that all our nets can recieve. Anything else gets (un)raveled?\n",
    "* So normal matnul would be a special case of this? Where A(x) = A * x= ?\n",
    "* How is this related to functional programming? \n",
    "* Based on numpy, should it be?"
   ]
  },
  {
   "cell_type": "markdown",
   "metadata": {},
   "source": [
    "### Issues and fundamental questions;\n",
    "\n",
    "* What would be the basic building block?\n",
    "    * the linear neuron? probably not\n",
    "    * Also these need to be able to proparage forward in time for RNNs.\n",
    "* Implicit assumptions in the structure/order of variables?\n",
    "* \n",
    "\n",
    "  \n",
    "### Interestingly we could build;\n",
    "* traditional activation functions from a network of less complex neurons. Thus a universal net?\n",
    "* a RNN with neurons that are RNNs themselves, thus giving time-dependent activity, or memory.\n",
    "* So pretty much any neural network architecture is a special case of this."
   ]
  }
 ],
 "metadata": {
  "kernelspec": {
   "display_name": "Python 3",
   "language": "python",
   "name": "python3"
  },
  "language_info": {
   "codemirror_mode": {
    "name": "ipython",
    "version": 3
   },
   "file_extension": ".py",
   "mimetype": "text/x-python",
   "name": "python",
   "nbconvert_exporter": "python",
   "pygments_lexer": "ipython3",
   "version": "3.5.1"
  }
 },
 "nbformat": 4,
 "nbformat_minor": 0
}
