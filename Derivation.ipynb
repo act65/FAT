{
 "cells": [
  {
   "cell_type": "markdown",
   "metadata": {},
   "source": [
    "### Vector variables v0.1\n",
    "$$\n",
    "\\begin{bmatrix} 0 & A & 0 \\\\ 0 & 0 & B \\\\ C & 0 & D \\end{bmatrix} \\left[ \\begin{array}{c} x \\\\ y \\\\ z \\end{array} \\right] =  \\left[ \\begin{array}{c} Ay \\\\ Bz \\\\ Cx + Dz \\end{array} \\right] \\rightarrow \\left[ \\begin{array}{c} x \\\\ y \\\\ z \\end{array} \\right]\\\\\\\\\n",
    "$$\n",
    "$$\n",
    "x_{t+1} = A y_t \\\\\n",
    "y_{t+1} = B z_t \\\\\n",
    "z_{t+1} = C x_t + D  z_t\n",
    "$$\n",
    "\n",
    "So all we have to do is replace our non-linearity in $\\sigma(\\phi \\cdot W + b)$ with a neural network, $NN(\\phi \\cdot W + b)$? No, it's not quite that simple... As we want different non-linearities for different states.\n",
    "$$\n",
    "\\begin{bmatrix} 0 & A & 0 \\\\ 0 & 0 & B \\\\ C & 0 & D \\end{bmatrix} \\left[ \\begin{array}{c} x \\\\ y \\\\ z \\end{array} \\right] =  \\left[ \\begin{array}{c} A(y) \\\\ B(z) \\\\ C(x) + D(z) \\end{array} \\right] \\rightarrow \\left[ \\begin{array}{c} x \\\\ y \\\\ z \\end{array} \\right]\\\\\n",
    "$$\n",
    "Which would be equivalent to \n",
    "$$\n",
    "x_{t+1} = A(y_t) \\\\\n",
    "y_{t+1} = B(z_t) \\\\\n",
    "z_{t+1} = C(x_t) + D(z_t)\n",
    "$$\n",
    "\n",
    "Where;\n",
    "* x,y,z are tensors. \n",
    "* A,B,C,D are neural networks. E.g. A = a 2x5x3 layer feedforward neural net. B = a 10 neuron RNN. ..."
   ]
  },
  {
   "cell_type": "markdown",
   "metadata": {},
   "source": [
    "### Matrix variables v0.2\n",
    "\n",
    "Need to add a 2D var matrix example?"
   ]
  },
  {
   "cell_type": "markdown",
   "metadata": {},
   "source": [
    "### Composing fatrixes\n",
    "\n",
    "\n",
    "Want $A,B \\in \\mathcal{F}: A+B \\in \\mathcal{F} , A*B \\in \\mathcal{F}, A^B \\in \\mathcal{F}$\n",
    "\n",
    "$$\n",
    "A = \\begin{bmatrix} a & b \\\\  c & d  \\end{bmatrix} \\\\\n",
    "A^{-1} = \\frac{1}{ad-bc} \\begin{bmatrix} d & -b \\\\  -c & a  \\end{bmatrix} \\\\\n",
    "B = \\begin{bmatrix} e & f \\\\  g & h  \\end{bmatrix} \\\\\n",
    "A A^{-1} = \\begin{bmatrix} a & b \\\\  c & d  \\end{bmatrix} \\frac{1}{ad-bc} \\begin{bmatrix} d & -b \\\\  -c & a  \\end{bmatrix} = \\frac{1}{ad-bc} \\begin{bmatrix} ad-bc & -ab + ab \\\\  cd - cd & ad-bc  \\end{bmatrix} \\\\\n",
    "$$\n",
    "\n",
    "##### So ab = ?\n",
    "* a $\\circ$ b = ? Where $a:X\\rightarrow Y$ and $b:Y\\rightarrow Z$ then $a \\circ b:X\\rightarrow Z$\n",
    "* a(b(x))\n",
    "* a(x) $\\cdot$ b(x) -- kinda like lazy evaluation\n",
    "\n",
    "This is the thing after a ring?"
   ]
  }
 ],
 "metadata": {
  "kernelspec": {
   "display_name": "Python 3",
   "language": "python",
   "name": "python3"
  },
  "language_info": {
   "codemirror_mode": {
    "name": "ipython",
    "version": 3
   },
   "file_extension": ".py",
   "mimetype": "text/x-python",
   "name": "python",
   "nbconvert_exporter": "python",
   "pygments_lexer": "ipython3",
   "version": "3.5.1"
  }
 },
 "nbformat": 4,
 "nbformat_minor": 0
}
