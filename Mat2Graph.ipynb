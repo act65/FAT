{
 "cells": [
  {
   "cell_type": "code",
   "execution_count": 1,
   "metadata": {
    "collapsed": true
   },
   "outputs": [],
   "source": [
    "import tensorflow as tf\n",
    "import numpy as np"
   ]
  },
  {
   "cell_type": "code",
   "execution_count": 2,
   "metadata": {
    "collapsed": true
   },
   "outputs": [],
   "source": [
    "import logging\n",
    "logger = logging.getLogger()\n",
    "logger.setLevel(logging.INFO)"
   ]
  },
  {
   "cell_type": "code",
   "execution_count": 8,
   "metadata": {
    "collapsed": false
   },
   "outputs": [],
   "source": [
    "class Fatrix():\n",
    "    \"\"\" \n",
    "    Using the matrix relations, make a computational graph.\n",
    "    Use n-d matrix multiplication on (func , var) to make the graph.\n",
    "    Matrix multiplication has a change...\n",
    "\n",
    "    https://github.com/numpy/numpy/blob/master/numpy/core/numeric.py\n",
    "    \"\"\"\n",
    "    def __init__(self,functions):\n",
    "        #all funcs need a _call method.\n",
    "        #and recieve only one input argument.\n",
    "        self.func = functions \n",
    "        self.shape = functions.shape\n",
    "        \n",
    "        self.make()\n",
    "        \n",
    "    def make(self):\n",
    "        for i in range(self.shape[0]):\n",
    "            for j in range(self.shape[1]):\n",
    "                if self.func[i,j] == 0 or self.func[i,j] == None:\n",
    "                    self.func[i,j] = self.o\n",
    "        \n",
    "    def o(self,x):\n",
    "        return 0\n",
    "        \n",
    "    def __call__(self,x):\n",
    "        return Fdot(self.func,x) #need to generalise to tensors.\n",
    "    \n",
    "    def __str__(self):\n",
    "        string = ''\n",
    "        for i in range(self.shape[0]):\n",
    "            for j in range(self.shape[1]):\n",
    "                string += self.func[i,j].__name__ + ' '\n",
    "            string += '\\n'\n",
    "        return string"
   ]
  },
  {
   "cell_type": "code",
   "execution_count": 7,
   "metadata": {
    "collapsed": true
   },
   "outputs": [],
   "source": [
    "def Fdot(x,y):\n",
    "    \"\"\"\n",
    "    Follows the same rules as traditional dot product, kinda ...\n",
    "    \n",
    "    Traditional dot\n",
    "    a, b  .  e,  f   =  a.e + b.g, a.f + b.h\n",
    "    c, d     g,  h   =  c.e + d.g, c.f + d.h\n",
    "    \n",
    "    Fdot\n",
    "    a, b  .  e,  f   =  a(e) + b(g), a(f) + b(h)\n",
    "    c, d     g,  h   =  c(e) + d(g), c(f) + d(h)\n",
    "\n",
    "    Inputs:\n",
    "    x - A n by m 2d matrix of functions\n",
    "    y - A m by p 2d matrix of variables\n",
    "\n",
    "    Returns:\n",
    "    z - A n by p 2d matrix\n",
    "    \"\"\"\n",
    "    #Sort out shapes\n",
    "    logger.debug('Shapes: Func = %s, Var = %s', x.shape,y.shape)\n",
    "    assert x.shape[1] == y.shape[0]\n",
    "    n,m = x.shape\n",
    "    _,p = y.shape\n",
    "    z = np.zeros((n,p))\n",
    "\n",
    "    #matrix multiplication, kinda\n",
    "    for k in range(n):#for each row of x\n",
    "        for j in range(p): #for each column of y\n",
    "            for i in range(m): #for each column of x and row of y\n",
    "                z[k,j] += x[k,i](y[i,j])\n",
    "                \n",
    "    return z"
   ]
  },
  {
   "cell_type": "code",
   "execution_count": 13,
   "metadata": {
    "collapsed": false
   },
   "outputs": [
    {
     "name": "stdout",
     "output_type": "stream",
     "text": [
      "A o o \n",
      "o B o \n",
      "o o C \n",
      "\n",
      "[[ 1.  0.  0.]\n",
      " [ 0.  3.  0.]\n",
      " [ 0.  0.  7.]]\n"
     ]
    }
   ],
   "source": [
    "if __name__ == \"__main__\":\n",
    "    # Some toy functions\n",
    "    def A(x): return x\n",
    "    def B(x): return 3*x\n",
    "    def C(x): return 7*x\n",
    "    \n",
    "    M = np.zeros((3,3))\n",
    "    #numpy doesnt like functions inserted as elements unless they are converted from list\n",
    "    #there must be some other way to do this\n",
    "    L= M.tolist() \n",
    "    \n",
    "    #a matrix of functions\n",
    "    L[0][0] = A\n",
    "    L[1][1] = B\n",
    "    L[2][2] = C\n",
    "    S = np.array(L)\n",
    "    \n",
    "    # test it out\n",
    "    x = np.diag(np.ones(3))\n",
    "    fat = Fatrix(S)\n",
    "    print(fat)\n",
    "    print(fat(x))"
   ]
  },
  {
   "cell_type": "code",
   "execution_count": null,
   "metadata": {
    "collapsed": true
   },
   "outputs": [],
   "source": [
    "#     L1 = M.tolist()\n",
    "#     L1[0][0] = fat\n",
    "#     S1 = np.array(L1)\n",
    "#     fatter = Fatrix(S1)\n",
    "    \n",
    "#     print(fatter)"
   ]
  }
 ],
 "metadata": {
  "kernelspec": {
   "display_name": "Python 3",
   "language": "python",
   "name": "python3"
  },
  "language_info": {
   "codemirror_mode": {
    "name": "ipython",
    "version": 3
   },
   "file_extension": ".py",
   "mimetype": "text/x-python",
   "name": "python",
   "nbconvert_exporter": "python",
   "pygments_lexer": "ipython3",
   "version": "3.5.1"
  }
 },
 "nbformat": 4,
 "nbformat_minor": 0
}
