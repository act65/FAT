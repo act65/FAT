{
 "cells": [
  {
   "cell_type": "markdown",
   "metadata": {},
   "source": [
    "A quick overview of what is going on at [this](https://github.com/act65/FAT) repository.\n",
    "\n",
    "# Functional linear algebra\n",
    "\n",
    "So (I think we would agree) that matrix multiplication looks something like this.\n",
    "$$\n",
    "\\begin{bmatrix}\n",
    "a & b\\\\\n",
    "c & d\\\\\n",
    "\\end{bmatrix}\n",
    "\\cdot\n",
    "\\begin{bmatrix}\n",
    "e & f\\\\\n",
    "g & h\\\\\n",
    "\\end{bmatrix}\n",
    "=\n",
    "\\begin{bmatrix}\n",
    "ae+bg & af+bh\\\\\n",
    "ce+dg & cf+dh\\\\\n",
    "\\end{bmatrix}\n",
    "$$\n",
    "\n",
    "**What happens if we did this?**\n",
    "$$\n",
    "\\textbf{F}(\\textbf{V}) =\n",
    "\\begin{bmatrix}\n",
    "a & b\\\\\n",
    "c & d\\\\\n",
    "\\end{bmatrix}\n",
    "\\begin{pmatrix}\n",
    "e & f\\\\\n",
    "g & h\\\\\n",
    "\\end{pmatrix}=\n",
    "\\begin{bmatrix}\n",
    "a(e)+b(g) & a(f)+b(h)\\\\\n",
    "c(e)+d(g) & c(f)+d(h)\\\\\n",
    "\\end{bmatrix}\n",
    "$$\n",
    "Elements in $\\textbf{F}$ are functions (that take one argument - although I would like to allow for more). And elements in $\\textbf{V}$ are variables. (I started calling the functional matrix, $\\textbf{F}$, a fatrix, as a placeholder for something better, but I havent come up with anything better... any ideas?)\n",
    "\n",
    "**And why would we bother?** Well;\n",
    "\n",
    "* Now we can use linear algebra with non-linearities (although this sounds somewhat silly).\n",
    "* Traditional linear algebra is a special case of this framework (think linear functions as elements in the fatrix).\n",
    "    * i.e. set $a(e)$ to be the function $a(e) = const\\times e$.\n",
    "* Allows us to recursively build higher level functions.\n",
    "    * Since $\\textbf{F}$ is just a function, we can use it as an element in another 'higher level' fatrix.\n",
    "* Can be used as another representation of a computational graph.\n",
    "* (and more?)\n",
    "\n",
    "# Application(s)\n",
    "\n",
    "So these are some examples of using this functional matrix algebra to represent the computational graph of some neural network architectures.\n",
    "<img src='Images/Fatrix.png'>\n",
    "See [this folder](https://github.com/act65/FAT/tree/master/Examples) for derivations of these pictures."
   ]
  }
 ],
 "metadata": {
  "kernelspec": {
   "display_name": "Python 3",
   "language": "python",
   "name": "python3"
  },
  "language_info": {
   "codemirror_mode": {
    "name": "ipython",
    "version": 3
   },
   "file_extension": ".py",
   "mimetype": "text/x-python",
   "name": "python",
   "nbconvert_exporter": "python",
   "pygments_lexer": "ipython3",
   "version": "3.5.1"
  }
 },
 "nbformat": 4,
 "nbformat_minor": 0
}
