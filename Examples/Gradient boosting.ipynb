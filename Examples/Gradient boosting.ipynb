{
 "cells": [
  {
   "cell_type": "markdown",
   "metadata": {},
   "source": [
    "$$\n",
    "x_t = \\gamma_1 h_1(x_1) + \\gamma_2 h_2(x_1) ... + \\gamma_{n-1} h_{n-1}(x_1) \\tag{the output}\\\\\n",
    "$$\n",
    "$$\n",
    "\\left[ \\begin{array}{c} x_1 \\\\ x_2 \\\\ x_3 \\\\ x_4 \\\\ x_5 \\\\  \\end{array} \\right] =\n",
    "\\left[ \\begin{array}{c} x_1 \\\\  \\gamma_1 h_1(x_1) \\\\  \\gamma_1 h_1(x_1) + \\gamma_2 h_2(x_1) \\\\  \\gamma_1 h_1(x_1) + \\gamma_2 h_2(x_1)+ \\gamma_3 h_3(x_1)\\\\  \\gamma_1 h_1(x_1) + \\gamma_2 h_2(x_1)+ \\gamma_3 h_3(x_1) + \\gamma_4 h_4(x_1) \\\\ \\end{array} \\right] \\tag{where the rows are time steps}\\\\\n",
    "$$\n",
    "$$\n",
    "= \\begin{bmatrix} \n",
    "I & 0 & 0 & 0 & 0   \\\\\n",
    "\\gamma_1 h_1 & 0 & 0 & 0 & 0 \\\\ \n",
    "\\gamma_1 h_1 + \\gamma_2 h_2 & 0 & 0 & 0 & 0 \\\\ \n",
    "\\gamma_1 h_1 + \\gamma_2 h_2 + \\gamma_3 h_3 & 0 & 0 & 0 & 0 \\\\ \n",
    "\\gamma_1 h_1 + \\gamma_2 h_2 + \\gamma_3 h_3 + \\gamma_4 h_4 & 0 & 0 & 0 & 0\\\\\n",
    "\\end{bmatrix} \n",
    "\\left( \\begin{array}{c} x_1 \\\\ x_2 \\\\ x_3 \\\\ x_4 \\\\ x_5 \\\\  \\end{array} \\right) \\tag{in fatrix form} \\\\\n",
    "$$\n",
    "\n",
    "$$\n",
    "= \\begin{bmatrix} \n",
    "I & 0 & 0 & 0 & 0   \\\\\n",
    "\\gamma_1 h_1 & 0 & 0 & 0 & 0 \\\\ \n",
    "\\gamma_2 h_2 & I & 0 & 0 & 0 \\\\ \n",
    "\\gamma_3 h_3 & I & I & 0 & 0 \\\\ \n",
    "\\gamma_4 h_4 & I & I & I & 0\\\\\n",
    "\\end{bmatrix} \n",
    "\\left( \\begin{array}{c} x_1 \\\\ x_2 \\\\ x_3 \\\\ x_4 \\\\ x_5 \\\\  \\end{array} \\right) \\tag{make some substitutions}\\\\\n",
    "$$\n",
    "\n",
    "This one does really work? As in practice x_1 changes with each time step.\n",
    "\n",
    "Hmm. This is getting closer. However, what we dont see here is that $h_{t+1}$ is a function of $x_t$ as it is fit to its residual (which is dependent on he residual before etc..). I think if we could formulate this for the gradients we could see ResNets = Gradient Boosting."
   ]
  }
 ],
 "metadata": {
  "kernelspec": {
   "display_name": "Python 3",
   "language": "python",
   "name": "python3"
  },
  "language_info": {
   "codemirror_mode": {
    "name": "ipython",
    "version": 3
   },
   "file_extension": ".py",
   "mimetype": "text/x-python",
   "name": "python",
   "nbconvert_exporter": "python",
   "pygments_lexer": "ipython3",
   "version": "3.5.1"
  }
 },
 "nbformat": 4,
 "nbformat_minor": 0
}
