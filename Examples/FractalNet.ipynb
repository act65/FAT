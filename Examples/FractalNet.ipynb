{
 "cells": [
  {
   "cell_type": "markdown",
   "metadata": {},
   "source": [
    "$$\n",
    "\\begin{align}\n",
    "??? \\\\\n",
    "\\end{align}\n",
    "$$\n",
    "\n",
    "$$\n",
    "\\left[ \\begin{array}{c} x_1 \\\\ x_2 \\\\ x_3 \\\\ x_4 \\\\ x_5 \\\\ x_6 \\\\ x_7 \\\\ x_8 \\\\ x_9 \\\\ \\end{array} \\right] =\n",
    "\\left[ \\begin{array}{c} ??   \\end{array} \\right] \\\\\n",
    "$$\n",
    "$$\n",
    "= \\begin{bmatrix} \n",
    "I & 0 & 0 &  0 & 0 & 0 & 0 & 0 & 0\\\\\n",
    "f_1^4 & 0 & 0  & 0 & 0 & 0 & 0 & 0 & 0\\\\ \n",
    "f_1^3 & f_2^4 & 0  & 0 & 0 & 0 & 0 & 0  & 0\\\\ \n",
    "0 & 0 & f_3^4 & 0 & 0 & 0 & 0 & 0 & 0\\\\ \n",
    "f_1^2 & 0 & f_2^3 & f_4^4 & 0 & 0 & 0 & 0 & 0\\\\ \n",
    "0 & 0 & 0 & 0 & f_5^4 & 0 & 0 & 0 & 0\\\\\n",
    "0 & 0 & 0 & 0 & f_3^3 & f_6^4 & 0 & 0 & 0\\\\\n",
    "0 & 0 & 0 & 0 & 0 & 0 & f_7^4 & 0 & 0\\\\\n",
    "f_1^1 & 0 & 0 & 0 & f_2^2 & 0 & f_4^3 & f_8^4 & 0\\\\\n",
    "\\end{bmatrix} \n",
    "\\left( \\begin{array}{c}  x_1 \\\\ x_2 \\\\ x_3 \\\\ x_4 \\\\ x_5 \\\\ x_6 \\\\ x_7 \\\\ x_8 \\\\ x_9 \\\\  \\end{array} \\right)  \\tag {superscript is the path number} \\\\\n",
    "$$"
   ]
  }
 ],
 "metadata": {
  "kernelspec": {
   "display_name": "Python 3",
   "language": "python",
   "name": "python3"
  },
  "language_info": {
   "codemirror_mode": {
    "name": "ipython",
    "version": 3
   },
   "file_extension": ".py",
   "mimetype": "text/x-python",
   "name": "python",
   "nbconvert_exporter": "python",
   "pygments_lexer": "ipython3",
   "version": "3.5.1"
  }
 },
 "nbformat": 4,
 "nbformat_minor": 0
}
