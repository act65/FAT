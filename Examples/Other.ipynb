{
 "cells": [
  {
   "cell_type": "markdown",
   "metadata": {},
   "source": [
    "\n",
    "\n"
   ]
  },
  {
   "cell_type": "markdown",
   "metadata": {},
   "source": [
    "# LSTM\n",
    "\n",
    "$$\n",
    "f_t = \\sigma (W_f\\cdot[h_{t-1}:x_t] + b_f) \\\\\n",
    "i_t = \\sigma (W_i\\cdot[h_{t-1}:x_t] + b_i) \\\\\n",
    "\\hat{C}_t = tanh(W_C \\cdot[h_{t-1}:x_t] + b_C) \\\\\n",
    "C_{t} = f_t * C_{t-1} + i_t * \\hat{C}_t  \\\\\n",
    "o_t = \\sigma (W_o \\cdot[h_{t-1}:x_t] + b_o) \\\\\n",
    "h_t = o_t * tanh(C_t) \\\\\n",
    "$$\n",
    "\n",
    "$$\n",
    "\\left[ \\begin{array}{c} h_1 \\\\ h_2 \\\\ h_3 \\\\ h_4 \\\\ h_5 \\\\  \\end{array} \\right] =\n",
    "???\n",
    "$$"
   ]
  },
  {
   "cell_type": "markdown",
   "metadata": {},
   "source": [
    "What others are there?\n",
    "* Recusrive nets\n",
    "* Multi-agent?\n",
    "* NTM\n",
    "* Interpreter?\n",
    "* Vanilla auto encoders?\n",
    "* GANs?\n",
    "* ClockworkRNN"
   ]
  },
  {
   "cell_type": "markdown",
   "metadata": {},
   "source": []
  }
 ],
 "metadata": {
  "kernelspec": {
   "display_name": "Python 3",
   "language": "python",
   "name": "python3"
  },
  "language_info": {
   "codemirror_mode": {
    "name": "ipython",
    "version": 3
   },
   "file_extension": ".py",
   "mimetype": "text/x-python",
   "name": "python",
   "nbconvert_exporter": "python",
   "pygments_lexer": "ipython3",
   "version": "3.5.1"
  }
 },
 "nbformat": 4,
 "nbformat_minor": 0
}
