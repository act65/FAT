{
 "cells": [
  {
   "cell_type": "markdown",
   "metadata": {},
   "source": [
    "Here we consider the bigger questions.\n",
    "\n",
    "# Why bother (motivation)?\n",
    "A formal language for composing networks\n",
    "\n",
    "\n",
    "Aka weight tying at a bigger, more complex, more structured scale\n",
    "\n",
    "<img src=\"Images/PoggioModnet.png\" alt=\"Modnet\">\n",
    "\n",
    "\n",
    "Viewing networks at a higher level. Where instead of considering the connections between neurons we are considering the connections between networks. (although it is really the same thing, as a neuron is just some function).\n",
    "\n",
    "<img src=\"Images/PoggioModnetmat.png\" alt=\"Modnetmat\">\n"
   ]
  },
  {
   "cell_type": "markdown",
   "metadata": {},
   "source": [
    "# How do we want it to work (ideal features)?\n",
    "\n",
    "### Fatrix\n",
    "\n",
    "Let A be ...\n",
    "\n",
    "Let E be a matrix of functions.\n",
    "$$E = \\begin{bmatrix} 0 & A & 0 \\\\ 0 & 0 & B \\\\ C & 0 & D \\end{bmatrix} \\\\$$\n",
    "\n",
    "\n",
    "\n",
    "### Higher levels\n",
    "\n",
    "I would then want to be able to say\n",
    "\n",
    "$$\n",
    "\n",
    "F = \\begin{bmatrix} A & B & B \\\\ 0 & 0 & C \\\\ D & D & 0 \\end{bmatrix} \\\\\n",
    "$$\n",
    "and finally\n",
    "$$\n",
    "I = \\begin{bmatrix} E & F & 0 \\\\ A & 0 & B \\\\ C & 0 & D \\end{bmatrix} \\\\\n",
    "$$\n",
    "on so on and so forth, for as many higher 'levels' as I wanted.\n",
    "\n",
    "### Composing funray's (algebra)\n",
    "\n",
    "If we let \n",
    "$$\n",
    "E = \\begin{bmatrix} 0 & A & 0 \\\\ 0 & 0 & B \\\\ C & 0 & D \\end{bmatrix} \\\\\n",
    "F = \\begin{bmatrix} A & B & B \\\\ 0 & 0 & C \\\\ D & D & 0 \\end{bmatrix} \\\\\n",
    "$$\n",
    "\n",
    "then what is $E + F$or $E\\times F$ or even $E^F$?\n",
    "\n",
    "### Implementation\n",
    "\n",
    "* Just making computation graph, or should it actually evaluate as well?\n",
    "* C(x) + D(z) can only be evaluated properly if;\n",
    "    * the inputs are the right shape, f(x) takes 5x1 but recieves 10x3...\n",
    "    * the outputs are the right shape. f(x) returns 2x1 and g(y) returns 3x5. how can these be composed together?\n",
    "        * We could make all nets input/output the same shape?\n",
    "        * We could create a basis type that all our nets can recieve. Anything else gets (un)raveled?\n",
    "* So normal matnul would be a special case of this? Where A(x) = A * x= ?\n",
    "* How is this related to functional programming? \n"
   ]
  },
  {
   "cell_type": "markdown",
   "metadata": {},
   "source": []
  },
  {
   "cell_type": "markdown",
   "metadata": {},
   "source": [
    "### Issues and fundamental questions;\n",
    "\n",
    "* What would be the basic building block?\n",
    "    * the linear neuron? probably not\n",
    "    * Also these need to be able to proparage forward in time for RNNs.\n",
    "\n",
    "  \n",
    "### Interestingly we could build;\n",
    "* traditional activation functions from a network of less complex neurons. Thus a universal net?\n",
    "* a RNN with neurons that are RNNs themselves, thus giving time-dependent activity, or memory.\n",
    "* So pretty much any neural network architecture is a special case of this."
   ]
  }
 ],
 "metadata": {
  "kernelspec": {
   "display_name": "Python 3",
   "language": "python",
   "name": "python3"
  },
  "language_info": {
   "codemirror_mode": {
    "name": "ipython",
    "version": 3
   },
   "file_extension": ".py",
   "mimetype": "text/x-python",
   "name": "python",
   "nbconvert_exporter": "python",
   "pygments_lexer": "ipython3",
   "version": "3.5.1"
  }
 },
 "nbformat": 4,
 "nbformat_minor": 0
}
