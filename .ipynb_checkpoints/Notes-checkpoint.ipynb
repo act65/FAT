{
 "cells": [
  {
   "cell_type": "markdown",
   "metadata": {},
   "source": [
    "A place to note down relevant knowledge and ideas.\n",
    "\n",
    "# Functional programming\n",
    "\n",
    "Requirements for function programming.\n",
    "* Immutable (what is immutable? functions? everything?)\n",
    "* Stateless (this poses probelms for RNNs etc)\n",
    "\n",
    "> When programming in a functional style, you’re always looking for simple, repeatable actions that can be abstracted out into a function. We can then build more complex features by calling these functions in sequence (also known as “composing” functions) — more on that in a second. [Source](https://www.smashingmagazine.com/2014/07/dont-be-scared-of-functional-programming/)\n",
    "\n",
    "\n",
    "\n",
    "### Recursion\n",
    "\n",
    "Why is this important for functional programming? Why cant we just use for loops? Or why is recursion better?"
   ]
  },
  {
   "cell_type": "markdown",
   "metadata": {},
   "source": [
    "### Python\n",
    "##### Map\n",
    "\n",
    "Applies a function to all the items in a iterable structure. Or we could write it as $map(f,X) \\implies f:X\\rightarrow Y$\n",
    "```python\n",
    "def multiply(x):\n",
    "    return (x*x)\n",
    "def add(x):\n",
    "    return (x+x)\n",
    "\n",
    "funcs = [multiply, add]\n",
    "for i in range(5):\n",
    "    value = list(map(lambda x: x(i), funcs))\n",
    "    print(value)\n",
    "    \n",
    "[0, 0]\n",
    "[1, 2]\n",
    "[4, 4]\n",
    "[9, 6]\n",
    "[16, 8]\n",
    "```\n",
    "Cool. So we have mapped a function as the input to another function. So the inputs to ```lambda x:x(i)``` are ```multiply``` and ```add```.\n",
    "\n",
    "##### Filter\n",
    "Filter creates a list of elements for which a function returns true.\n",
    "```python\n",
    "number_list = range(-5, 5)\n",
    "less_than_zero = list(filter(lambda x: x < 0, number_list))\n",
    "print(less_than_zero)\n",
    "\n",
    "[-5, -4, -3, -2, -1]\n",
    "```\n",
    "##### Reduce\n",
    "```python\n",
    "from functools import reduce\n",
    "product = reduce( (lambda x, y: x * y), [1, 2, 3, 4] )\n",
    "print(product)\n",
    "```\n",
    "Hmm. So this is doing recursion on the lambda function??\n",
    "\n",
    "    Apply a function of two arguments cumulatively to the items of a sequence,\n",
    "    from left to right, so as to reduce the sequence to a single value.\n",
    "    For example, reduce(lambda x, y: x+y, [1, 2, 3, 4, 5]) calculates\n",
    "    ((((1+2)+3)+4)+5).  If initial is present, it is placed before the items\n",
    "    of the sequence in the calculation, and serves as a default when the\n",
    "    sequence is empty.\n",
    "\n",
    "Yup.\n",
    "\n",
    "### Questions\n",
    "\n",
    "* How is this realted to object oriented programming?"
   ]
  },
  {
   "cell_type": "markdown",
   "metadata": {},
   "source": [
    "# Lambda calculus\n",
    "\n"
   ]
  },
  {
   "cell_type": "markdown",
   "metadata": {},
   "source": [
    "# Functors\n",
    "https://en.wikipedia.org/wiki/Higher-order_function\n",
    "http://mathoverflow.net/questions/103141/what-is-the-functor-tensor-product\n",
    "\n",
    "http://www.maths.ed.ac.uk/~aar/papers/maclanecat.pdf\n",
    "http://arxiv.org/pdf/1105.3104v4.pdf\n",
    "\n",
    "\n",
    "# Algebraic structures\n",
    "Do i want some sort of group/ring/??? to ..."
   ]
  },
  {
   "cell_type": "markdown",
   "metadata": {},
   "source": [
    "Other stuff\n",
    "\n",
    "Monads?\n",
    "Category/type theory?\n",
    "Haskell?\n",
    "?\n",
    "Fold??\n",
    "\n",
    "\n",
    "# Rescources\n",
    "\n",
    "* http://colah.github.io/posts/2015-09-NN-Types-FP/\n",
    "* https://github.com/EntilZha/PyFunctional\n",
    "* https://github.com/kachayev/fn.py"
   ]
  }
 ],
 "metadata": {
  "kernelspec": {
   "display_name": "Python 3",
   "language": "python",
   "name": "python3"
  },
  "language_info": {
   "codemirror_mode": {
    "name": "ipython",
    "version": 3
   },
   "file_extension": ".py",
   "mimetype": "text/x-python",
   "name": "python",
   "nbconvert_exporter": "python",
   "pygments_lexer": "ipython3",
   "version": "3.5.1"
  }
 },
 "nbformat": 4,
 "nbformat_minor": 0
}
