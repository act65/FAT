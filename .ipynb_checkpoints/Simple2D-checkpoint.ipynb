{
 "cells": [
  {
   "cell_type": "code",
   "execution_count": 4,
   "metadata": {
    "collapsed": true
   },
   "outputs": [],
   "source": [
    "import numpy as np"
   ]
  },
  {
   "cell_type": "code",
   "execution_count": 34,
   "metadata": {
    "collapsed": false
   },
   "outputs": [],
   "source": [
    "class Fatrix():\n",
    "    \"\"\" \n",
    "    Using the matrix relations, make a computational graph.\n",
    "    Use n-d matrix multiplication on (func , var) to make the graph.\n",
    "    Matrix multiplication has a change...\n",
    "    \"\"\"\n",
    "    def __init__(self,functions):\n",
    "        #all funcs need a _call method.\n",
    "        #and recieve only one input argument.\n",
    "        self.func = functions \n",
    "        self.shape = functions.shape\n",
    "        \n",
    "        self.make()\n",
    "        \n",
    "    def make(self):\n",
    "        for i in range(self.shape[0]):\n",
    "            for j in range(self.shape[1]):\n",
    "                if self.func[i,j] == 0 or self.func[i,j] == None:\n",
    "                    self.func[i,j] = self.o\n",
    "        \n",
    "    def o(self,x):#a function for null cases. this doesnt seem efficient?\n",
    "        return 0\n",
    "        \n",
    "    def __call__(self,x):\n",
    "        return Fdot(self.func,x) #need to generalise to tensors.\n",
    "    \n",
    "    def __add__(self,x): #hmmm\n",
    "        return x\n",
    "    \n",
    "    def __str__(self):\n",
    "        string = ''\n",
    "        for i in range(self.shape[0]):\n",
    "            for j in range(self.shape[1]):\n",
    "                string += self.func[i,j].__name__ + ' '\n",
    "            string += '\\n'\n",
    "        return string"
   ]
  },
  {
   "cell_type": "code",
   "execution_count": 10,
   "metadata": {
    "collapsed": true
   },
   "outputs": [],
   "source": [
    "def Fdot(x,y):\n",
    "    \"\"\"\n",
    "    Follows the same rules as traditional dot product, kinda ...\n",
    "    \n",
    "    Traditional dot\n",
    "    a, b  .  e,  f   =  a.e + b.g, a.f + b.h\n",
    "    c, d     g,  h   =  c.e + d.g, c.f + d.h\n",
    "    \n",
    "    Fdot\n",
    "    a, b  .  e,  f   =  a(e) + b(g), a(f) + b(h)\n",
    "    c, d     g,  h   =  c(e) + d(g), c(f) + d(h)\n",
    "\n",
    "    Inputs:\n",
    "    x - A n by m 2d matrix of functions\n",
    "    y - A m by p 2d matrix of variables\n",
    "\n",
    "    Returns:\n",
    "    z - A n by p 2d matrix\n",
    "    \"\"\"\n",
    "    #Sort out shapes\n",
    "    assert x.shape[1] == y.shape[0]\n",
    "    n,m = x.shape\n",
    "    _,p = y.shape\n",
    "    z = np.zeros((n,p))\n",
    "\n",
    "    #matrix multiplication, kinda\n",
    "    for k in range(n):#for each row of x\n",
    "        for j in range(p): #for each column of y\n",
    "            for i in range(m): #for each column of x and row of y\n",
    "                z[k,j] += x[k,i](y[i,j])\n",
    "                \n",
    "    return z"
   ]
  },
  {
   "cell_type": "code",
   "execution_count": 35,
   "metadata": {
    "collapsed": false
   },
   "outputs": [
    {
     "name": "stdout",
     "output_type": "stream",
     "text": [
      "A o o \n",
      "o B o \n",
      "o o C \n",
      "\n",
      "[[ 1.  0.  0.]\n",
      " [ 0.  3.  0.]\n",
      " [ 0.  0.  7.]]\n"
     ]
    }
   ],
   "source": [
    "if __name__ == \"__main__\":\n",
    "    # Some toy functions\n",
    "    def A(x): return x\n",
    "    def B(x): return 3*x\n",
    "    def C(x): return 7*x\n",
    "    \n",
    "    M = np.zeros((3,3))\n",
    "    #numpy doesnt like functions inserted as elements unless they are converted from list\n",
    "    #there must be some other way to do this\n",
    "    L= M.tolist() \n",
    "    \n",
    "    #a matrix of functions\n",
    "    L[0][0] = A\n",
    "    L[1][1] = B\n",
    "    L[2][2] = C\n",
    "    S = np.array(L)\n",
    "    \n",
    "    # test it out\n",
    "    x = np.diag(np.ones(3))\n",
    "    fat = Fatrix(S)\n",
    "    print(fat)\n",
    "    print(fat(x))"
   ]
  },
  {
   "cell_type": "code",
   "execution_count": 28,
   "metadata": {
    "collapsed": false
   },
   "outputs": [
    {
     "ename": "AttributeError",
     "evalue": "'Fatrix' object has no attribute '__name__'",
     "output_type": "error",
     "traceback": [
      "\u001b[0;31m---------------------------------------------------------------------------\u001b[0m",
      "\u001b[0;31mAttributeError\u001b[0m                            Traceback (most recent call last)",
      "\u001b[0;32m<ipython-input-28-a3c432caba69>\u001b[0m in \u001b[0;36m<module>\u001b[0;34m()\u001b[0m\n\u001b[1;32m      5\u001b[0m     \u001b[0mfatter\u001b[0m \u001b[0;34m=\u001b[0m \u001b[0mFatrix\u001b[0m\u001b[0;34m(\u001b[0m\u001b[0mS1\u001b[0m\u001b[0;34m)\u001b[0m\u001b[0;34m\u001b[0m\u001b[0m\n\u001b[1;32m      6\u001b[0m \u001b[0;34m\u001b[0m\u001b[0m\n\u001b[0;32m----> 7\u001b[0;31m     \u001b[0mprint\u001b[0m\u001b[0;34m(\u001b[0m\u001b[0mfatter\u001b[0m\u001b[0;34m)\u001b[0m\u001b[0;34m\u001b[0m\u001b[0m\n\u001b[0m",
      "\u001b[0;32m<ipython-input-25-675bb79d8ece>\u001b[0m in \u001b[0;36m__str__\u001b[0;34m(self)\u001b[0m\n\u001b[1;32m     29\u001b[0m         \u001b[0;32mfor\u001b[0m \u001b[0mi\u001b[0m \u001b[0;32min\u001b[0m \u001b[0mrange\u001b[0m\u001b[0;34m(\u001b[0m\u001b[0mself\u001b[0m\u001b[0;34m.\u001b[0m\u001b[0mshape\u001b[0m\u001b[0;34m[\u001b[0m\u001b[0;36m0\u001b[0m\u001b[0;34m]\u001b[0m\u001b[0;34m)\u001b[0m\u001b[0;34m:\u001b[0m\u001b[0;34m\u001b[0m\u001b[0m\n\u001b[1;32m     30\u001b[0m             \u001b[0;32mfor\u001b[0m \u001b[0mj\u001b[0m \u001b[0;32min\u001b[0m \u001b[0mrange\u001b[0m\u001b[0;34m(\u001b[0m\u001b[0mself\u001b[0m\u001b[0;34m.\u001b[0m\u001b[0mshape\u001b[0m\u001b[0;34m[\u001b[0m\u001b[0;36m1\u001b[0m\u001b[0;34m]\u001b[0m\u001b[0;34m)\u001b[0m\u001b[0;34m:\u001b[0m\u001b[0;34m\u001b[0m\u001b[0m\n\u001b[0;32m---> 31\u001b[0;31m                 \u001b[0mstring\u001b[0m \u001b[0;34m+=\u001b[0m \u001b[0mself\u001b[0m\u001b[0;34m.\u001b[0m\u001b[0mfunc\u001b[0m\u001b[0;34m[\u001b[0m\u001b[0mi\u001b[0m\u001b[0;34m,\u001b[0m\u001b[0mj\u001b[0m\u001b[0;34m]\u001b[0m\u001b[0;34m.\u001b[0m\u001b[0m__name__\u001b[0m \u001b[0;34m+\u001b[0m \u001b[0;34m' '\u001b[0m\u001b[0;34m\u001b[0m\u001b[0m\n\u001b[0m\u001b[1;32m     32\u001b[0m             \u001b[0mstring\u001b[0m \u001b[0;34m+=\u001b[0m \u001b[0;34m'\\n'\u001b[0m\u001b[0;34m\u001b[0m\u001b[0m\n\u001b[1;32m     33\u001b[0m         \u001b[0;32mreturn\u001b[0m \u001b[0mstring\u001b[0m\u001b[0;34m\u001b[0m\u001b[0m\n",
      "\u001b[0;31mAttributeError\u001b[0m: 'Fatrix' object has no attribute '__name__'"
     ]
    }
   ],
   "source": [
    "if __name__ == \"__main__\":  \n",
    "    L1 = M.tolist()\n",
    "    L1[0][0] = fat\n",
    "    S1 = np.array(L1)\n",
    "    fatter = Fatrix(S1)\n",
    "    \n",
    "    print(fatter)"
   ]
  },
  {
   "cell_type": "code",
   "execution_count": 43,
   "metadata": {
    "collapsed": false
   },
   "outputs": [
    {
     "name": "stdout",
     "output_type": "stream",
     "text": [
      "o o o \n",
      "o o D \n",
      "o o o \n",
      "\n"
     ]
    }
   ],
   "source": [
    "if __name__ == \"__main__\":\n",
    "    def D(x): return 11*x\n",
    "    \n",
    "    L1 = M.tolist()\n",
    "    L1[1][2] = D\n",
    "    fat1 = Fatrix(np.array(L1))\n",
    "    print(fat+fat1)"
   ]
  },
  {
   "cell_type": "code",
   "execution_count": 33,
   "metadata": {
    "collapsed": false
   },
   "outputs": [
    {
     "data": {
      "text/plain": [
       "['__abs__',\n",
       " '__add__',\n",
       " '__and__',\n",
       " '__bool__',\n",
       " '__ceil__',\n",
       " '__class__',\n",
       " '__delattr__',\n",
       " '__dir__',\n",
       " '__divmod__',\n",
       " '__doc__',\n",
       " '__eq__',\n",
       " '__float__',\n",
       " '__floor__',\n",
       " '__floordiv__',\n",
       " '__format__',\n",
       " '__ge__',\n",
       " '__getattribute__',\n",
       " '__getnewargs__',\n",
       " '__gt__',\n",
       " '__hash__',\n",
       " '__index__',\n",
       " '__init__',\n",
       " '__int__',\n",
       " '__invert__',\n",
       " '__le__',\n",
       " '__lshift__',\n",
       " '__lt__',\n",
       " '__mod__',\n",
       " '__mul__',\n",
       " '__ne__',\n",
       " '__neg__',\n",
       " '__new__',\n",
       " '__or__',\n",
       " '__pos__',\n",
       " '__pow__',\n",
       " '__radd__',\n",
       " '__rand__',\n",
       " '__rdivmod__',\n",
       " '__reduce__',\n",
       " '__reduce_ex__',\n",
       " '__repr__',\n",
       " '__rfloordiv__',\n",
       " '__rlshift__',\n",
       " '__rmod__',\n",
       " '__rmul__',\n",
       " '__ror__',\n",
       " '__round__',\n",
       " '__rpow__',\n",
       " '__rrshift__',\n",
       " '__rshift__',\n",
       " '__rsub__',\n",
       " '__rtruediv__',\n",
       " '__rxor__',\n",
       " '__setattr__',\n",
       " '__sizeof__',\n",
       " '__str__',\n",
       " '__sub__',\n",
       " '__subclasshook__',\n",
       " '__truediv__',\n",
       " '__trunc__',\n",
       " '__xor__',\n",
       " 'bit_length',\n",
       " 'conjugate',\n",
       " 'denominator',\n",
       " 'from_bytes',\n",
       " 'imag',\n",
       " 'numerator',\n",
       " 'real',\n",
       " 'to_bytes']"
      ]
     },
     "execution_count": 33,
     "metadata": {},
     "output_type": "execute_result"
    }
   ],
   "source": [
    "dir(2)"
   ]
  }
 ],
 "metadata": {
  "kernelspec": {
   "display_name": "Python 3",
   "language": "python",
   "name": "python3"
  },
  "language_info": {
   "codemirror_mode": {
    "name": "ipython",
    "version": 3
   },
   "file_extension": ".py",
   "mimetype": "text/x-python",
   "name": "python",
   "nbconvert_exporter": "python",
   "pygments_lexer": "ipython3",
   "version": "3.5.1"
  }
 },
 "nbformat": 4,
 "nbformat_minor": 0
}
