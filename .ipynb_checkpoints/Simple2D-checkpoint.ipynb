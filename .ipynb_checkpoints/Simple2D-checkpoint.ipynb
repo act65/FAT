{
 "cells": [
  {
   "cell_type": "code",
   "execution_count": 1,
   "metadata": {
    "collapsed": true
   },
   "outputs": [],
   "source": [
    "import numpy as np"
   ]
  },
  {
   "cell_type": "code",
   "execution_count": 11,
   "metadata": {
    "collapsed": false
   },
   "outputs": [],
   "source": [
    "class Fatrix():\n",
    "    \"\"\" \n",
    "    Using the matrix relations, make a computational graph.\n",
    "    Use n-d matrix multiplication on (func , var) to make the graph.\n",
    "    Matrix multiplication has a change...\n",
    "    \n",
    "    Inputs:\n",
    "    #all funcs need a _call method.\n",
    "    #and recieve only one input argument.\n",
    "    \"\"\"\n",
    "    def __init__(self,shape = None,functions = None,dtype = None):\n",
    "\n",
    "        self.func = functions\n",
    "        self.shape = shape\n",
    "        self.dtype = dtype\n",
    "        \n",
    "        if shape != None:\n",
    "            self.func = np.empty(shape,dtype)\n",
    "        \n",
    "        self.make()\n",
    "        \n",
    "    def make(self):\n",
    "        for i in range(self.shape[0]):\n",
    "            for j in range(self.shape[1]):\n",
    "                if self.func[i,j] == 0 or self.func[i,j] == None:\n",
    "                    self.func[i,j] = self.o\n",
    "        \n",
    "    def o(self,x):#a function for null cases. this doesnt seem efficient?\n",
    "        return 0\n",
    "        \n",
    "    def __call__(self,x):\n",
    "        return Fdot(self.func,x) #need to generalise to tensors.\n",
    "    \n",
    "    def __add__(self,x): #hmmm\n",
    "        return x\n",
    "    \n",
    "    def __setitem__(self,i,x):\n",
    "        self.func[i] = x\n",
    "        \n",
    "    def __getitem__(self,i):\n",
    "        return self.func[i]\n",
    "    \n",
    "    def __str__(self):\n",
    "        string = ''\n",
    "        for i in range(self.shape[0]):\n",
    "            for j in range(self.shape[1]):\n",
    "                string += self.func[i,j].__name__ + ' '\n",
    "            string += '\\n'\n",
    "        return string"
   ]
  },
  {
   "cell_type": "code",
   "execution_count": 3,
   "metadata": {
    "collapsed": true
   },
   "outputs": [],
   "source": [
    "def Fdot(x,y):\n",
    "    \"\"\"\n",
    "    Follows the same rules as traditional dot product, kinda ...\n",
    "    \n",
    "    Traditional dot\n",
    "    a, b  .  e,  f   =  a.e + b.g, a.f + b.h\n",
    "    c, d     g,  h   =  c.e + d.g, c.f + d.h\n",
    "    \n",
    "    Fdot\n",
    "    a, b  .  e,  f   =  a(e) + b(g), a(f) + b(h)\n",
    "    c, d     g,  h   =  c(e) + d(g), c(f) + d(h)\n",
    "\n",
    "    Inputs:\n",
    "    x - A n by m 2d matrix of functions\n",
    "    y - A m by p 2d matrix of variables\n",
    "\n",
    "    Returns:\n",
    "    z - A n by p 2d matrix\n",
    "    \"\"\"\n",
    "    #Sort out shapes\n",
    "    assert x.shape[1] == y.shape[0]\n",
    "    n,m = x.shape\n",
    "    _,p = y.shape\n",
    "    z = np.zeros((n,p))\n",
    "\n",
    "    #matrix multiplication, kinda\n",
    "    for k in range(n):#for each row of x\n",
    "        for j in range(p): #for each column of y\n",
    "            for i in range(m): #for each column of x and row of y\n",
    "                z[k,j] += x[k,i](y[i,j])\n",
    "                \n",
    "    return z"
   ]
  },
  {
   "cell_type": "code",
   "execution_count": 14,
   "metadata": {
    "collapsed": false
   },
   "outputs": [
    {
     "name": "stdout",
     "output_type": "stream",
     "text": [
      "A o o \n",
      "o B o \n",
      "o o C \n",
      "\n",
      "[[ 1.  0.  0.]\n",
      " [ 0.  3.  0.]\n",
      " [ 0.  0.  7.]]\n"
     ]
    }
   ],
   "source": [
    "if __name__ == \"__main__\":\n",
    "    # Some toy functions\n",
    "    def A(x): return x\n",
    "    def B(x): return 3*x\n",
    "    def C(x): return 7*x\n",
    "    \n",
    "    fatter = Fatrix(shape = (3,3),dtype = type(A))\n",
    "    fatter[0,0] = A\n",
    "    fatter[1,1] = B\n",
    "    fatter[2,2] = C\n",
    "    \n",
    "    x = np.diag(np.ones(3))\n",
    "    print(fatter)\n",
    "    print(fatter(x))"
   ]
  },
  {
   "cell_type": "code",
   "execution_count": null,
   "metadata": {
    "collapsed": false
   },
   "outputs": [],
   "source": [
    "if __name__ == \"__main__\":\n",
    "    def D(x): return 11*x\n",
    "    \n",
    "    print(fat+fat1)"
   ]
  },
  {
   "cell_type": "code",
   "execution_count": 12,
   "metadata": {
    "collapsed": false
   },
   "outputs": [
    {
     "name": "stdout",
     "output_type": "stream",
     "text": [
      "[NbConvertApp] Converting notebook Simple2D.ipynb to script\n",
      "[NbConvertApp] Writing 2811 bytes to Simple2D.py\n"
     ]
    }
   ],
   "source": [
    "if __name__ == '__main__':\n",
    "    !jupyter nbconvert --to script Simple2D.ipynb "
   ]
  }
 ],
 "metadata": {
  "kernelspec": {
   "display_name": "Python 3",
   "language": "python",
   "name": "python3"
  },
  "language_info": {
   "codemirror_mode": {
    "name": "ipython",
    "version": 3
   },
   "file_extension": ".py",
   "mimetype": "text/x-python",
   "name": "python",
   "nbconvert_exporter": "python",
   "pygments_lexer": "ipython3",
   "version": "3.5.1"
  }
 },
 "nbformat": 4,
 "nbformat_minor": 0
}
