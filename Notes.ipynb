{
 "cells": [
  {
   "cell_type": "markdown",
   "metadata": {},
   "source": [
    "### 2D arrays of variables\n",
    "\n",
    "Need to add the ability to handle 2D variable matrices? What if we have $F \\in \\mathcal{F}, V \\in \\mathcal{V}$. Where $\\mathcal{V}$ is the set of variables.\n",
    "\n",
    "$$\n",
    "\\begin{bmatrix} \n",
    "h & f \\\\ \n",
    "0 & g \\\\ \n",
    "\\end{bmatrix} \n",
    "\\begin{bmatrix} \n",
    "x & y \\\\ \n",
    "z & 0 \\\\ \n",
    "\\end{bmatrix}  =  ?? = \n",
    "\\begin{bmatrix} \n",
    "h(x) + f(z) & h(y) \\\\ \n",
    "g(z) & 0 \\\\ \n",
    "\\end{bmatrix}\n",
    "$$\n",
    "\n",
    "* What does this even mean for our computational graph?\n",
    "* What does this allow us to do? (seems powerful?)"
   ]
  },
  {
   "cell_type": "markdown",
   "metadata": {},
   "source": [
    "### Higher levels\n",
    "\n",
    "I would then want to be able to say given some fatrixes, ie, $A,B,C,D \\in \\mathcal{F}$ how can we use these in fatrixes, as they are just functions themselves.\n",
    "\n",
    "$$\n",
    "E = \\begin{bmatrix} A & B & B \\\\ 0 & 0 & C \\\\ D & D & 0 \\end{bmatrix} \\\\\n",
    "$$\n",
    "and even\n",
    "$$\n",
    "F = \\begin{bmatrix} E & 0 & 0 \\\\ A & E & B \\\\ C & 0 & D \\end{bmatrix} \\\\\n",
    "$$\n",
    "on so on and so forth, for as many higher 'levels' as I wanted. Making it easy to create 'meta' functions, and to see/code higher level structure."
   ]
  },
  {
   "cell_type": "markdown",
   "metadata": {},
   "source": [
    "### Composing fatrixes\n",
    "\n",
    "\n",
    "Want: $A,B \\in \\mathcal{F}:$\n",
    "* $A+B \\in \\mathcal{F}$ , \n",
    "* $A\\times B \\in \\mathcal{F}$,\n",
    "* $A^B \\in \\mathcal{F}$ (?)\n",
    "\n",
    "$$\n",
    "A = \\begin{bmatrix} a & b \\\\  c & d  \\end{bmatrix} \\\\\n",
    "A^{-1} = \\frac{1}{ad-bc} \\begin{bmatrix} d & -b \\\\  -c & a  \\end{bmatrix} \\\\\n",
    "B = \\begin{bmatrix} e & f \\\\  g & h  \\end{bmatrix} \\\\\n",
    "A A^{-1} = \\begin{bmatrix} a & b \\\\  c & d  \\end{bmatrix} \\frac{1}{ad-bc} \\begin{bmatrix} d & -b \\\\  -c & a  \\end{bmatrix} = \\frac{1}{ad-bc} \\begin{bmatrix} ad-bc & -ab + ab \\\\  cd - cd & ad-bc  \\end{bmatrix} \\\\\n",
    "$$\n",
    "\n",
    "##### So ab = ?\n",
    "* $a \\circ b = a(b(\\_)) $\n",
    "    * Where $a:X\\rightarrow Y$ and $b:Y\\rightarrow Z$ then $a \\circ b:X\\rightarrow Z$\n",
    "* $a(x) \\cdot b(x)$\n",
    "    * Like lazy evaluation"
   ]
  },
  {
   "cell_type": "markdown",
   "metadata": {},
   "source": [
    "### Functions of multiple variables\n",
    "\n",
    "What about f(x,y)? How can I manage this?"
   ]
  },
  {
   "cell_type": "markdown",
   "metadata": {},
   "source": [
    "### Group algebra?\n",
    "\n",
    "Let $\\mathcal{H}$ be the set functions. $h(x):= \\sigma (W\\cdot x + b) \\mid h \\in \\mathcal{H}, $\n",
    "\n",
    "Define $\\circ $ to be a binary operation of two elements in $\\mathcal{H}$. Such that $\\forall g,h \\in \\mathcal{H}, g \\circ h \\in \\mathcal{H}$. So;\n",
    "\n",
    "* $g \\circ h = g(h(x))$\n",
    "* Or? \n",
    "* $g \\circ h = (\\sigma_g \\circ \\sigma_h)( (W_g \\circ W_h)\\cdot x + (b_g \\circ b_h)) $\n",
    "    * The composition of two groups, one for the nonlinearity and another for the linearity?\n",
    "\n",
    "Then a multi layer network can be written as $h_1 \\circ h_2 \\circ h_3 \\circ h_4 = H_i$.\n",
    "\n",
    "* Does this have any cycles?\n",
    "* What are the symmetry groups?\n",
    "    * Yes, but do these mean anything? Do they help us in interesting ways? \n",
    "    * Does a reflection or rotation mean anything significant? The inverse of the function?\n",
    "    * What does  $h_1 \\circ h_2 \\circ h_3 \\circ h_4$ tell us about  $h_1 \\circ h_4 \\circ h_3 \\circ h_2$ (a reflection) or  $h_2 \\circ h_3 \\circ h_4 \\circ h_1$ (a rotation)"
   ]
  },
  {
   "cell_type": "markdown",
   "metadata": {},
   "source": [
    "### A language for composing networks\n",
    "\n",
    "Topology. Continuious change into other structures?\n",
    "If we have two nets RNN1 and RNN2. How can we combine these to make a new RNN3 so that it retains (as much of) the properties of RNN1 and RNN2? \n",
    "\n",
    "* Allows us to think about function space? \n",
    "    * The distance between two functions is ???\n",
    "    * Transformations on functions (by functions) in some function space"
   ]
  },
  {
   "cell_type": "markdown",
   "metadata": {},
   "source": [
    "### Gradients\n",
    "\n",
    "Let F be some fatrix such that \n",
    "\n",
    "$$\n",
    "F = \\begin{bmatrix} \n",
    "f_1 & 0 & 0 \\\\\n",
    "f_2 & f_3 & 0 \\\\\n",
    "f_1 & 0 & f_1 \\\\\n",
    "\\end{bmatrix}\n",
    "$$\n",
    "\n",
    "However, if these functions are parameterised. E.g. $f_1(x) = f_1(x,\\phi)$, as usual in NNs. Then we can think about $\\frac{dy}{df_1} = \\frac{dy}{d\\phi}$. Which is kind of cool. We can represent the derivatives of functions.\n",
    "\n",
    "(is this any different from usual? \n",
    "\n",
    "What is $\\nabla F$?\n",
    "$$\n",
    "\\nabla F = \\begin{bmatrix} \n",
    "f_1 & 0 & 0 \\\\\n",
    "f_2 & f_3 & 0 \\\\\n",
    "f_1 & 0 & f_1 \\\\\n",
    "\\end{bmatrix}\n",
    "\\left[ \\begin{array}{c} \\frac{\\partial }{\\partial x_1} \\\\ \\frac{\\partial }{\\partial x_2} \\\\ \\frac{\\partial }{\\partial x_3} \\end{array} \\right]\\\\\\\\\n",
    "$$\n",
    "\n",
    "Hmm. That doesnt seem as interesting as I had hoped... Hmm. But now these two matrices are both of functions? There are no variables? So the we could say\n",
    "\n",
    "$$\n",
    "\\nabla F = \\begin{bmatrix} \n",
    "f_1 & 0 & 0 \\\\\n",
    "f_2 & f_3 & 0 \\\\\n",
    "f_1 & 0 & f_1 \\\\\n",
    "\\end{bmatrix}\n",
    "\\left[ \\begin{array}{c} \\frac{\\partial }{\\partial x_1} & \\frac{\\partial }{\\partial x_2} & \\frac{\\partial }{\\partial x_3} \\\\ \\end{array} \\right] \n",
    "\\left( \\begin{array}{c} x_1 \\\\ x_2 \\\\ x_3 \\\\ \\end{array} \\right)\\\\\n",
    "$$"
   ]
  }
 ],
 "metadata": {
  "kernelspec": {
   "display_name": "Python 3",
   "language": "python",
   "name": "python3"
  },
  "language_info": {
   "codemirror_mode": {
    "name": "ipython",
    "version": 3
   },
   "file_extension": ".py",
   "mimetype": "text/x-python",
   "name": "python",
   "nbconvert_exporter": "python",
   "pygments_lexer": "ipython3",
   "version": "3.5.1"
  }
 },
 "nbformat": 4,
 "nbformat_minor": 0
}
