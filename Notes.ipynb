{
 "cells": [
  {
   "cell_type": "markdown",
   "metadata": {},
   "source": [
    "Let $\\mathcal{F}$ be the set of layer functions. $f \\in \\mathcal{F} = f(x):= \\sigma (W\\cdot x + b)$\n",
    "\n",
    "Define $\\circ$ to be a binary operation of two layer functions. Such that $\\forall f,g \\in \\mathcal{F}, f \\circ g \\in \\mathcal{F}$. So;\n",
    "\n",
    "* $f \\circ g = f(g(x))$\n",
    "* Or? $f \\circ g = h:= (\\sigma_f \\circ \\sigma_g)( (W_f \\circ W_g)\\cdot x + (b_f \\circ b_g)) $\n",
    "\n",
    "Then a multi layer network can be written as $f_1 \\circ f_2 \\circ f_3 \\circ f_4 = f_5$.\n",
    "\n",
    "* Does this have any cycles?\n",
    "* What are the symmetry groups?\n",
    "    * Yes, but do these mean anything? Do they help us in interesting ways? \n",
    "    * Does a reflection or rotation mean anything significant? The inverse of the function? ...?"
   ]
  }
 ],
 "metadata": {
  "kernelspec": {
   "display_name": "Python 3",
   "language": "python",
   "name": "python3"
  },
  "language_info": {
   "codemirror_mode": {
    "name": "ipython",
    "version": 3
   },
   "file_extension": ".py",
   "mimetype": "text/x-python",
   "name": "python",
   "nbconvert_exporter": "python",
   "pygments_lexer": "ipython3",
   "version": "3.5.1"
  }
 },
 "nbformat": 4,
 "nbformat_minor": 0
}
