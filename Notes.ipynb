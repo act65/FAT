{
 "cells": [
  {
   "cell_type": "markdown",
   "metadata": {},
   "source": [
    "A place to note down relevant knowledge and ideas.\n",
    "\n",
    "\n",
    "# Functors\n",
    "https://en.wikipedia.org/wiki/Higher-order_function\n",
    "http://mathoverflow.net/questions/103141/what-is-the-functor-tensor-product\n",
    "\n",
    "http://www.maths.ed.ac.uk/~aar/papers/maclanecat.pdf\n",
    "http://arxiv.org/pdf/1105.3104v4.pdf\n",
    "\n",
    "\n",
    "# Algebraic structures\n",
    "Do i want some sort of group/ring/??? to ..."
   ]
  }
 ],
 "metadata": {
  "kernelspec": {
   "display_name": "Python 3",
   "language": "python",
   "name": "python3"
  },
  "language_info": {
   "codemirror_mode": {
    "name": "ipython",
    "version": 3
   },
   "file_extension": ".py",
   "mimetype": "text/x-python",
   "name": "python",
   "nbconvert_exporter": "python",
   "pygments_lexer": "ipython3",
   "version": "3.5.1"
  }
 },
 "nbformat": 4,
 "nbformat_minor": 0
}
