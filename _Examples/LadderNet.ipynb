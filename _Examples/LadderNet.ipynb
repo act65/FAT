{
 "cells": [
  {
   "cell_type": "markdown",
   "metadata": {},
   "source": [
    "$$\n",
    "\\begin{align}\n",
    "x_{i+1} = e_i(x_{i}) \\tag{for e in the set of encoder functions} \\\\\n",
    "\\hat{x}_{i+1} = x_i + d_i(\\hat{x}_{i}) \\tag{for d in the set of decoder functions} \\\\\n",
    "\\end{align}\n",
    "$$\n",
    "\n",
    "$$\n",
    "\\left[ \\begin{array}{c} x_1 \\\\ x_2 \\\\ x_3 \\\\ \\hat{x}_1 \\\\ \\hat{x}_2 \\\\ \\hat{x}_3  \\\\ \\end{array} \\right] =\n",
    "\\left[ \\begin{array}{c} x_1 \\\\ e_1(x_1) \\\\ e_2(x_2) \\\\ x_3 \\\\ x_2 + d_1(\\hat{x}_1) \\\\ x_1 + d_2(\\hat{x}_2) \\\\  \\end{array} \\right] \\\\\n",
    "$$\n",
    "$$\n",
    "= \\begin{bmatrix} \n",
    "I & 0 & 0 &  0 & 0 & 0 & 0 & 0\\\\\n",
    "e_1 & 0 & 0  & 0 & 0 & 0 & 0 & 0\\\\ \n",
    "0 & e_2 & 0  & 0 & 0 & 0 & 0 & 0\\\\ \n",
    "0 & 0 & e_3 & 0 & 0 & 0 & 0 & 0\\\\ \n",
    "0 & 0 & 0 & I & 0 & 0 & 0 & 0\\\\ \n",
    "0 & 0 & I & 0 & d_1 & 0 & 0 & 0\\\\\n",
    "0 & I & 0 & 0 & 0 & d_2 & 0 & 0\\\\\n",
    "I & 0 & 0 & 0 & 0 & 0 & d_3 & 0\\\\\n",
    "\\end{bmatrix} \n",
    "\\left( \\begin{array}{c}  x_1 \\\\ x_2 \\\\ x_3 \\\\ x_4 \\\\ \\hat{x}_1 \\\\\\hat{x}_2 \\\\ \\hat{x}_3 \\\\ \\hat{x}_4  \\\\\\end{array} \\right) \\\\\n",
    "$$\n",
    "$$\n",
    "\\left[ \\begin{array}{c} x_1 \\\\ x_2 \\\\ x_3 \\\\ x_4 \\\\ \\hat{x}_2 \\\\ \\hat{x}_3 \\\\ \\hat{x}_4  \\\\ \\end{array} \\right] =\n",
    "\\begin{bmatrix} \n",
    "I & 0 & 0 &  0 & 0 & 0 & 0\\\\\n",
    "e_1 & 0 & 0  & 0 & 0 & 0 & 0\\\\ \n",
    "0 & e_2 & 0  & 0 & 0 & 0 & 0\\\\ \n",
    "0 & 0 & e_3 & 0 & 0 & 0 & 0\\\\ \n",
    "0 & 0 & I &  d_1 & 0 & 0 & 0\\\\\n",
    "0 & I & 0 & 0 & d_2 & 0 & 0\\\\\n",
    "I & 0 & 0 & 0 & 0 & d_3 & 0\\\\\n",
    "\\end{bmatrix} \n",
    "\\left( \\begin{array}{c}  x_1 \\\\ x_2 \\\\ x_3 \\\\ x_4 \\\\ \\hat{x}_2 \\\\ \\hat{x}_3 \\\\ \\hat{x}_4  \\\\ \\end{array} \\right) \\\\ \\tag{$x_4 = \\hat{x}_1$}\n",
    "$$\n",
    "$$\n",
    "= \\begin{bmatrix} \n",
    "I & 0 & 0 &  0 & 0 & 0 & 0\\\\\n",
    "e_1 & 0 & 0  & 0 & 0 & 0 & 0\\\\ \n",
    "0 & e_2 & 0  & 0 & 0 & 0 & 0\\\\ \n",
    "0 & 0 & e_3 & 0 & 0 & 0 & 0\\\\ \n",
    "0 & e_2 & 0 &  d_1 & 0 & 0 & 0\\\\\n",
    "e_1 & 0 & 0 & 0 & d_2 & 0 & 0\\\\\n",
    "I & 0 & 0 & 0 & 0 & d_3 & 0\\\\\n",
    "\\end{bmatrix} \n",
    "\\left( \\begin{array}{c}  x_1 \\\\ x_2 \\\\ x_3 \\\\ x_4 \\\\ \\hat{x}_2 \\\\ \\hat{x}_3 \\\\ \\hat{x}_4  \\\\ \\end{array} \\right) \\\\\n",
    "$$"
   ]
  }
 ],
 "metadata": {
  "kernelspec": {
   "display_name": "Python 3",
   "language": "python",
   "name": "python3"
  },
  "language_info": {
   "codemirror_mode": {
    "name": "ipython",
    "version": 3
   },
   "file_extension": ".py",
   "mimetype": "text/x-python",
   "name": "python",
   "nbconvert_exporter": "python",
   "pygments_lexer": "ipython3",
   "version": "3.5.1"
  }
 },
 "nbformat": 4,
 "nbformat_minor": 0
}
