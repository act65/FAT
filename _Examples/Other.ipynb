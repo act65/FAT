{
 "cells": [
  {
   "cell_type": "markdown",
   "metadata": {},
   "source": [
    "# ClockworkRNN\n",
    "\n"
   ]
  },
  {
   "cell_type": "markdown",
   "metadata": {},
   "source": [
    "# LSTM\n",
    "\n",
    "$$\n",
    "f_t = \\sigma (W_f\\cdot[h_{t-1}:x_t] + b_f) \\\\\n",
    "i_t = \\sigma (W_i\\cdot[h_{t-1}:x_t] + b_i) \\\\\n",
    "\\hat{C}_t = tanh(W_C \\cdot[h_{t-1}:x_t] + b_C) \\\\\n",
    "C_{t} = f_t * C_{t-1} + i_t * \\hat{C}_t  \\\\\n",
    "o_t = \\sigma (W_o \\cdot[h_{t-1}:x_t] + b_o) \\\\\n",
    "h_t = o_t * tanh(C_t) \\\\\n",
    "$$\n",
    "http://colah.github.io/posts/2015-08-Understanding-LSTMs/\n",
    "\n",
    "$$\n",
    "\\left[ \\begin{array}{c} h_1 \\\\ h_2 \\\\ h_3 \\\\ h_4 \\\\ h_5 \\\\  \\end{array} \\right] =\n",
    "???\n",
    "$$"
   ]
  },
  {
   "cell_type": "markdown",
   "metadata": {},
   "source": [
    "# Recusrive nets\n",
    "\n",
    "\n",
    "# What others are there?\n",
    "??"
   ]
  },
  {
   "cell_type": "markdown",
   "metadata": {},
   "source": [
    "# Boosting\n",
    "\n",
    "$$\n",
    "x_n = \\gamma_1 h_1(x_1) + \\gamma_2 h_2(x_1) ... + \\gamma_{n-1} h_{n-1}(x_1) \\tag{the output}\\\\\n",
    "$$\n",
    "$$\n",
    "\\left[ \\begin{array}{c} x_1 \\\\ x_2 \\\\ x_3 \\\\ x_4 \\\\ x_5 \\\\  \\end{array} \\right] =\n",
    "\\left[ \\begin{array}{c} x_1 \\\\ \\gamma_1 h_1(x_1) \\\\ \\gamma_2 h_2(x_1) \\\\ \\gamma_3 h_3(x_1) \\\\ x_2 + x_3 + x_4 \\\\  \\end{array} \\right] \\\\\n",
    "$$\n",
    "$$\n",
    "= \\begin{bmatrix} \n",
    "I & 0 & 0 & 0 & 0   \\\\\n",
    "\\gamma_1 h_1 & 0 & 0 & 0 & 0 \\\\ \n",
    "\\gamma_2 h_2 & 0 & 0 & 0 & 0 \\\\ \n",
    "\\gamma_3 h_3 & 0 & 0 & 0 & 0 \\\\ \n",
    "0 & I & I & I & 0\\\\\n",
    "\\end{bmatrix} \n",
    "\\left( \\begin{array}{c} x_1 \\\\ x_2 \\\\ x_3 \\\\ x_4 \\\\ x_5 \\\\  \\end{array} \\right) \\\\\n",
    "$$\n",
    "$$\n",
    "= \\begin{bmatrix} \n",
    "I & 0 & 0 & 0 & 0   \\\\\n",
    "\\gamma_1 h_1 & 0 & 0 & 0 & 0 \\\\ \n",
    "\\gamma_2 h_2 & 0 & 0 & 0 & 0 \\\\ \n",
    "\\gamma_3 h_3 & 0 & 0 & 0 & 0 \\\\ \n",
    "0 & I & I & I & 0\\\\\n",
    "\\end{bmatrix} \n",
    "\\left( \\begin{array}{c} x_1 \\\\ x_2 \\\\ x_3 \\\\ x_4 \\\\ x_5 \\\\  \\end{array} \\right) \\\\\n",
    "$$"
   ]
  }
 ],
 "metadata": {
  "kernelspec": {
   "display_name": "Python 3",
   "language": "python",
   "name": "python3"
  },
  "language_info": {
   "codemirror_mode": {
    "name": "ipython",
    "version": 3
   },
   "file_extension": ".py",
   "mimetype": "text/x-python",
   "name": "python",
   "nbconvert_exporter": "python",
   "pygments_lexer": "ipython3",
   "version": "3.5.1"
  }
 },
 "nbformat": 4,
 "nbformat_minor": 0
}
