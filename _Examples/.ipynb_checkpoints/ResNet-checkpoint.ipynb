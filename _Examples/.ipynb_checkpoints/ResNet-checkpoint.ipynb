{
 "cells": [
  {
   "cell_type": "markdown",
   "metadata": {},
   "source": [
    "$$\n",
    "x_{i+1} = x_i + f_i(x_i) \\\\\n",
    "$$\n",
    "$$\n",
    "\\left[ \\begin{array}{c} x_1 \\\\ x_2 \\\\ x_3 \\\\ x_4 \\\\ x_5 \\\\  \\end{array} \\right] =\n",
    "\\left[ \\begin{array}{c} x_1 \\\\ f_1(x_1)+x_1 \\\\ f_2(x_2)+x_2 \\\\ f_3(x_3)+x_3 \\\\ f_4(x_4)+x_4 \\\\  \\end{array} \\right] \\\\\n",
    "= \\begin{bmatrix} \n",
    "I & 0 & 0 & 0 & 0   \\\\\n",
    "I + f_1 & 0 & 0 & 0 & 0 \\\\ \n",
    "0 & I + f_2 & 0 & 0 & 0 \\\\ \n",
    "0 & 0 & I + f_3 & 0 & 0 \\\\ \n",
    "0 & 0 & 0 & I + f_4 & 0\\\\\n",
    "\\end{bmatrix} \n",
    "\\left( \\begin{array}{c} x_1 \\\\ x_2 \\\\ x_3 \\\\ x_4 \\\\ x_5 \\\\  \\end{array} \\right) \\\\\n",
    "$$\n",
    "$$\n",
    "= \\begin{bmatrix} \n",
    "I & 0 & 0 & 0 & 0   \\\\\n",
    "I + f_1 & 0 & 0 & 0 & 0 \\\\ \n",
    "I + f_1 & f_2 & 0 & 0 & 0 \\\\ \n",
    "I + f_1 & f_2 & f_3 & 0 & 0 \\\\ \n",
    "I + f_1 & f_2 & f_3 & f_4 & 0\\\\\n",
    "\\end{bmatrix} \n",
    "\\left( \\begin{array}{c} x_1 \\\\ x_2 \\\\ x_3 \\\\ x_4 \\\\ x_5 \\\\  \\end{array} \\right) \\\\\n",
    "$$\n",
    "$$\n",
    "= \\begin{bmatrix} \n",
    "I & 0 & 0 & 0 & 0 \\\\\n",
    "I & 0 & 0 & 0 & 0 \\\\ \n",
    "I & 0 & 0 & 0 & 0 \\\\ \n",
    "I & 0 & 0 & 0 & 0 \\\\ \n",
    "I & 0 & 0 & 0 & 0 \\\\\n",
    "\\end{bmatrix} \n",
    "\\left[ \\begin{array}{c} x_1 \\\\ x_2 \\\\ x_3 \\\\ x_4 \\\\ x_5 \\\\  \\end{array} \\right]\n",
    "+ \n",
    "\\begin{bmatrix} \n",
    "0 & 0 & 0 & 0 & 0   \\\\\n",
    "f_1 & 0 & 0 & 0 & 0 \\\\ \n",
    "f_1 & f_2 & 0 & 0 & 0 \\\\ \n",
    "f_1 & f_2 & f_3 & 0 & 0 \\\\ \n",
    "f_1 & f_2 & f_3 & f_4 & 0\\\\\n",
    "\\end{bmatrix} \n",
    "\\left( \\begin{array}{c} x_1 \\\\ x_2 \\\\ x_3 \\\\ x_4 \\\\ x_5 \\\\  \\end{array} \\right) \\\\\n",
    "$$\n",
    "$$\n",
    "\\vec{x} = x_1 + \\mathbf{\\mathcal{F}}(\\vec{x})\n",
    "$$"
   ]
  }
 ],
 "metadata": {
  "kernelspec": {
   "display_name": "Python 3",
   "language": "python",
   "name": "python3"
  },
  "language_info": {
   "codemirror_mode": {
    "name": "ipython",
    "version": 3
   },
   "file_extension": ".py",
   "mimetype": "text/x-python",
   "name": "python",
   "nbconvert_exporter": "python",
   "pygments_lexer": "ipython3",
   "version": "3.5.1"
  }
 },
 "nbformat": 4,
 "nbformat_minor": 0
}
