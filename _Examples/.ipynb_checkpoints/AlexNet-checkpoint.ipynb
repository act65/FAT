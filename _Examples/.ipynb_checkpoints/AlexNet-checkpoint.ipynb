{
 "cells": [
  {
   "cell_type": "code",
   "execution_count": 1,
   "metadata": {
    "collapsed": false
   },
   "outputs": [
    {
     "ename": "NameError",
     "evalue": "name 'ConvL1' is not defined",
     "output_type": "error",
     "traceback": [
      "\u001b[0;31m---------------------------------------------------------------------------\u001b[0m",
      "\u001b[0;31mNameError\u001b[0m                                 Traceback (most recent call last)",
      "\u001b[0;32m<ipython-input-1-9898af56b366>\u001b[0m in \u001b[0;36m<module>\u001b[0;34m()\u001b[0m\n\u001b[1;32m      5\u001b[0m \u001b[0;31m#some other stuff\u001b[0m\u001b[0;34m\u001b[0m\u001b[0;34m\u001b[0m\u001b[0m\n\u001b[1;32m      6\u001b[0m \u001b[0;34m\u001b[0m\u001b[0m\n\u001b[0;32m----> 7\u001b[0;31m \u001b[0mo_conv0\u001b[0m \u001b[0;34m=\u001b[0m \u001b[0mConvL1\u001b[0m\u001b[0;34m(\u001b[0m\u001b[0mimage\u001b[0m\u001b[0;34m)\u001b[0m\u001b[0;34m\u001b[0m\u001b[0m\n\u001b[0m\u001b[1;32m      8\u001b[0m \u001b[0mo_conv1\u001b[0m \u001b[0;34m=\u001b[0m \u001b[0mConvL2\u001b[0m\u001b[0;34m(\u001b[0m\u001b[0mo_conv0\u001b[0m\u001b[0;34m)\u001b[0m\u001b[0;34m\u001b[0m\u001b[0m\n\u001b[1;32m      9\u001b[0m \u001b[0mo_conv2\u001b[0m \u001b[0;34m=\u001b[0m \u001b[0mConvL3\u001b[0m\u001b[0;34m(\u001b[0m\u001b[0mo_conv1\u001b[0m\u001b[0;34m)\u001b[0m\u001b[0;34m\u001b[0m\u001b[0m\n",
      "\u001b[0;31mNameError\u001b[0m: name 'ConvL1' is not defined"
     ]
    }
   ],
   "source": [
    "##### Coded in tensorflow\n",
    "\n",
    "import tensorflow\n",
    "\n",
    "#some other stuff\n",
    "\n",
    "o_conv0 = ConvL1(image)\n",
    "o_conv1 = ConvL2(o_conv0)\n",
    "o_conv2 = ConvL3(o_conv1)\n",
    "o_conv3 = ConvL4(o_conv2)\n",
    "o_conv4 = ConvL5(o_conv3)\n",
    "o_conv5 = ConvL6(o_conv4)\n",
    "o_fc0 = FC1(o_conv5)\n",
    "o_fc1 = FC2(o_fc0)\n",
    "o_fc3 = FC3(o_fc1)\n",
    "y = softmax(o_fc3)\n"
   ]
  },
  {
   "cell_type": "code",
   "execution_count": null,
   "metadata": {
    "collapsed": true
   },
   "outputs": [],
   "source": []
  }
 ],
 "metadata": {
  "kernelspec": {
   "display_name": "Python 3",
   "language": "python",
   "name": "python3"
  },
  "language_info": {
   "codemirror_mode": {
    "name": "ipython",
    "version": 3
   },
   "file_extension": ".py",
   "mimetype": "text/x-python",
   "name": "python",
   "nbconvert_exporter": "python",
   "pygments_lexer": "ipython3",
   "version": "3.5.1"
  }
 },
 "nbformat": 4,
 "nbformat_minor": 0
}
